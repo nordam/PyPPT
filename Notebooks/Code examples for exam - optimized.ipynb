{
 "cells": [
  {
   "cell_type": "code",
   "execution_count": 1,
   "metadata": {
    "collapsed": true
   },
   "outputs": [],
   "source": [
    "%matplotlib inline\n",
    "import numpy as np\n",
    "from matplotlib import pyplot as plt\n",
    "plt.style.use('bmh')\n",
    "from numba import jit, float64\n",
    "from numba.types import UniTuple\n",
    "from time import time"
   ]
  },
  {
   "cell_type": "code",
   "execution_count": 2,
   "metadata": {
    "collapsed": false
   },
   "outputs": [],
   "source": [
    "# Implementation of Eq. (1) in the exam set\n",
    "def doublegyre(x, y, t, A, e, w):\n",
    "    a = e * np.sin(w*t)\n",
    "    b = 1 - 2*e*np.sin(w*t)\n",
    "    f = a*x**2 + b*x\n",
    "    return np.array([\n",
    "            -np.pi*A*np.sin(np.pi*f) * np.cos(np.pi*y),              # x component of velocity\n",
    "             np.pi*A*np.cos(np.pi*f) * np.sin(np.pi*y) * (2*a*x + b) # y component of velocity\n",
    "        ])\n",
    "\n",
    "\n",
    "# Wrapper function to pass to integrator\n",
    "# X0 is a two-component vector [x, y]\n",
    "def f(X, t):\n",
    "    # Parameters of the velocity field\n",
    "    A = 0.1\n",
    "    e = 0.25 # epsilon\n",
    "    w = 1    # omega\n",
    "    return doublegyre(X[0], X[1], t, A, e, w)\n",
    "\n",
    "\n",
    "# Forward Euler integrator\n",
    "# X0 is a two-component vector [x, y]\n",
    "def euler(X, t, dt, f):\n",
    "    k1 = f(X,           t)\n",
    "    return X + dt*k1\n",
    "\n",
    "\n",
    "# 4th order Runge-Kutta integrator\n",
    "# X0 is a two-component vector [x, y]\n",
    "def rk4(X, t, dt, f):\n",
    "    k1 = f(X,           t)\n",
    "    k2 = f(X + k1*dt/2, t + dt/2)\n",
    "    k3 = f(X + k2*dt/2, t + dt/2)\n",
    "    k4 = f(X + k3*dt,   t + dt)\n",
    "    return X + dt*(k1 + 2*k2 + 2*k3 + k4) / 6\n",
    "\n",
    "\n",
    "# Function to calculate a trajectory from an\n",
    "# initial position X0 at t = 0, moving forward\n",
    "# until t = tmax, using the given timestep and\n",
    "# integrator\n",
    "def trajectory(X0, tmax, dt, integrator, f):\n",
    "    t    = 0\n",
    "    # Number of timesteps\n",
    "    Nx = int(tmax / dt)\n",
    "    # Array to hold the entire trajectory\n",
    "    PX = np.zeros((2, Nx+1))\n",
    "    # Initial position\n",
    "    PX[:,0] = X0\n",
    "    # Loop over all timesteps\n",
    "    for i in range(1, Nx+1):\n",
    "        PX[:,i] = integrator(PX[:,i-1], t, dt, f)\n",
    "        t += dt\n",
    "    # Return entire trajectory\n",
    "    return PX"
   ]
  },
  {
   "cell_type": "markdown",
   "metadata": {},
   "source": [
    "# Transport a collection of particles"
   ]
  },
  {
   "cell_type": "code",
   "execution_count": 3,
   "metadata": {
    "collapsed": false
   },
   "outputs": [
    {
     "data": {
      "text/plain": [
       "(0, 1)"
      ]
     },
     "execution_count": 3,
     "metadata": {},
     "output_type": "execute_result"
    },
    {
     "data": {
      "image/png": "[encoded data removed]",
      "text/plain": [
       "<matplotlib.figure.Figure at 0x10bc93e48>"
      ]
     },
     "metadata": {},
     "output_type": "display_data"
    }
   ],
   "source": [
    "def grid_of_particles(N, w):\n",
    "    # Create a grid of N evenly spaced particles\n",
    "    # covering a square patch of width and height w\n",
    "    # centered on the region 0 < x < 2, 0 < y < 1\n",
    "    x  = np.linspace(1.0-w/2, 1.0+w/2, int(np.sqrt(N)))\n",
    "    y  = np.linspace(0.5-w/2, 0.5+w/2, int(np.sqrt(N)))\n",
    "    x, y = np.meshgrid(x, y)\n",
    "    return np.array([x.flatten(), y.flatten()])\n",
    "\n",
    "X = grid_of_particles(1000, 0.1)\n",
    "# Make a plot to confirm that this works as expected\n",
    "fig = plt.figure(figsize  = (12,6))\n",
    "plt.scatter(X[0,:], X[1,:], lw = 0, marker = '.', s = 1)\n",
    "plt.xlim(0, 2)\n",
    "plt.ylim(0, 1)"
   ]
  },
  {
   "cell_type": "markdown",
   "metadata": {},
   "source": [
    "## Optimization - Step 1: Naïve loop implementation"
   ]
  },
  {
   "cell_type": "code",
   "execution_count": 4,
   "metadata": {
    "collapsed": false
   },
   "outputs": [
    {
     "name": "stdout",
     "output_type": "stream",
     "text": [
      "Transport took 8.540 seconds\n"
     ]
    },
    {
     "data": {
      "text/plain": [
       "(0, 1)"
      ]
     },
     "execution_count": 4,
     "metadata": {},
     "output_type": "execute_result"
    },
    {
     "data": {
      "image/png": "[encoded data removed]",
      "text/plain": [
       "<matplotlib.figure.Figure at 0x10bc937b8>"
      ]
     },
     "metadata": {},
     "output_type": "display_data"
    }
   ],
   "source": [
    "N  = 10000\n",
    "X0 = grid_of_particles(N, w = 0.1)\n",
    "# Array to hold all grid points after transport\n",
    "X1 = np.zeros((2, N))\n",
    "\n",
    "# Transport parameters\n",
    "tmax = 5.0\n",
    "dt   = 0.5\n",
    "\n",
    "# Loop over grid and update all positions\n",
    "# This is where parallelisation would happen, since\n",
    "# each position is independent of all the others\n",
    "tic = time()\n",
    "for i in range(N):\n",
    "    # Keep only the last position, not the entire trajectory\n",
    "    X1[:,i] = trajectory(X0[:,i], tmax, dt, rk4, f)[:,-1]\n",
    "toc = time()\n",
    "print('Transport took %.3f seconds' % (toc - tic))\n",
    "\n",
    "# Make scatter plot to show all grid points\n",
    "fig = plt.figure(figsize = (12,6))\n",
    "plt.scatter(X1[0,:], X1[1,:], lw = 0, marker = '.', s = 1)\n",
    "plt.xlim(0, 2)\n",
    "plt.ylim(0, 1)"
   ]
  },
  {
   "cell_type": "markdown",
   "metadata": {},
   "source": [
    "## Optimization - Step 2: NumPy array operations"
   ]
  },
  {
   "cell_type": "code",
   "execution_count": 10,
   "metadata": {
    "collapsed": true
   },
   "outputs": [],
   "source": [
    "# Implementation of Eq. (1) in the exam set\n",
    "def doublegyre(x, y, t, A, e, w):\n",
    "    a = e * np.sin(w*t)\n",
    "    b = 1 - 2*e*np.sin(w*t)\n",
    "    f = a*x**2 + b*x\n",
    "    return np.array([\n",
    "            -np.pi*A*np.sin(np.pi*f) * np.cos(np.pi*y),              # x component of velocity\n",
    "             np.pi*A*np.cos(np.pi*f) * np.sin(np.pi*y) * (2*a*x + b) # y component of velocity\n",
    "        ])\n",
    "\n",
    "\n",
    "# Wrapper function to pass to integrator\n",
    "# X0 is a two-component vector [x, y]\n",
    "def f(X, t):\n",
    "    # Parameters of the velocity field\n",
    "    A = 0.1\n",
    "    e = 0.25 # epsilon\n",
    "    w = 1    # omega\n",
    "    return doublegyre(X[0,:], X[1,:], t, A, e, w)\n",
    "\n",
    "\n",
    "# 4th order Runge-Kutta integrator\n",
    "# X0 is a two-component vector [x, y]\n",
    "def rk4(X, t, dt, f):\n",
    "    k1 = f(X,           t)\n",
    "    k2 = f(X + k1*dt/2, t + dt/2)\n",
    "    k3 = f(X + k2*dt/2, t + dt/2)\n",
    "    k4 = f(X + k3*dt,   t + dt)\n",
    "    return X + dt*(k1 + 2*k2 + 2*k3 + k4) / 6\n",
    "\n",
    "\n",
    "# Function to calculate a trajectory from an\n",
    "# initial position X0 at t = 0, moving forward\n",
    "# until t = tmax, using the given timestep and\n",
    "# integrator\n",
    "def trajectory(X0, tmax, dt, integrator, f):\n",
    "    t    = 0\n",
    "    # Number of timesteps\n",
    "    Nt = int(tmax / dt)\n",
    "    # Array to hold the entire trajectory\n",
    "    PX = np.zeros((*X0.shape, Nt+1))\n",
    "    # Initial position\n",
    "    PX[:,:,0] = X0\n",
    "    # Loop over all timesteps\n",
    "    for i in range(1, Nt+1):\n",
    "        PX[:,:,i] = integrator(PX[:,:,i-1], t, dt, f)\n",
    "        t += dt\n",
    "    # Return entire trajectory\n",
    "    return PX"
   ]
  },
  {
   "cell_type": "code",
   "execution_count": 11,
   "metadata": {
    "collapsed": false
   },
   "outputs": [
    {
     "name": "stdout",
     "output_type": "stream",
     "text": [
      "Transport took 0.044 seconds\n"
     ]
    },
    {
     "data": {
      "text/plain": [
       "(0, 1)"
      ]
     },
     "execution_count": 11,
     "metadata": {},
     "output_type": "execute_result"
    },
    {
     "data": {
      "image/png": "[encoded data removed]",
      "text/plain": [
       "<matplotlib.figure.Figure at 0x10f81d5f8>"
      ]
     },
     "metadata": {},
     "output_type": "display_data"
    }
   ],
   "source": [
    "N  = 10000\n",
    "X0 = grid_of_particles(N, w = 0.1)\n",
    "# Array to hold all grid points after transport\n",
    "X1 = np.zeros((2, N))\n",
    "\n",
    "# Transport parameters\n",
    "tmax = 5.0\n",
    "dt   = 0.5\n",
    "\n",
    "# Loop over grid and update all positions\n",
    "# This is where parallelisation would happen, since\n",
    "# each position is independent of all the others\n",
    "tic = time()\n",
    "# Keep only the last position, not the entire trajectory\n",
    "X1 = trajectory(X0, tmax, dt, rk4, f)[:,:,-1]\n",
    "toc = time()\n",
    "print('Transport took %.3f seconds' % (toc - tic))\n",
    "\n",
    "# Make scatter plot to show all grid points\n",
    "fig = plt.figure(figsize = (12,6))\n",
    "plt.scatter(X1[0,:], X1[1,:], lw = 0, marker = '.', s = 1)\n",
    "plt.xlim(0, 2)\n",
    "plt.ylim(0, 1)"
   ]
  },
  {
   "cell_type": "markdown",
   "metadata": {},
   "source": [
    "## Optimization - Step 3: Rewrite trajectory function to only return final location"
   ]
  },
  {
   "cell_type": "code",
   "execution_count": 16,
   "metadata": {
    "collapsed": true
   },
   "outputs": [],
   "source": [
    "# Implementation of Eq. (1) in the exam set\n",
    "def doublegyre(x, y, t, A, e, w):\n",
    "    a = e * np.sin(w*t)\n",
    "    b = 1 - 2*e*np.sin(w*t)\n",
    "    f = a*x**2 + b*x\n",
    "    return np.array([\n",
    "            -np.pi*A*np.sin(np.pi*f) * np.cos(np.pi*y),              # x component of velocity\n",
    "             np.pi*A*np.cos(np.pi*f) * np.sin(np.pi*y) * (2*a*x + b) # y component of velocity\n",
    "        ])\n",
    "\n",
    "\n",
    "# Wrapper function to pass to integrator\n",
    "# X0 is a two-component vector [x, y]\n",
    "def f(X, t):\n",
    "    # Parameters of the velocity field\n",
    "    A = 0.1\n",
    "    e = 0.25 # epsilon\n",
    "    w = 1    # omega\n",
    "    return doublegyre(X[0,:], X[1,:], t, A, e, w)\n",
    "\n",
    "\n",
    "# 4th order Runge-Kutta integrator\n",
    "# X0 is a two-component vector [x, y]\n",
    "def rk4(X, t, dt, f):\n",
    "    k1 = f(X,           t)\n",
    "    k2 = f(X + k1*dt/2, t + dt/2)\n",
    "    k3 = f(X + k2*dt/2, t + dt/2)\n",
    "    k4 = f(X + k3*dt,   t + dt)\n",
    "    return X + dt*(k1 + 2*k2 + 2*k3 + k4) / 6\n",
    "\n",
    "\n",
    "# Function to calculate a trajectory from an\n",
    "# initial position X0 at t = 0, moving forward\n",
    "# until t = tmax, using the given timestep and\n",
    "# integrator\n",
    "def trajectory(X, tmax, dt, integrator, f):\n",
    "    t    = 0\n",
    "    # Number of timesteps\n",
    "    Nt = int(tmax / dt)\n",
    "    # Loop over all timesteps\n",
    "    for i in range(1, Nt+1):\n",
    "        X = integrator(X, t, dt, f)\n",
    "        t += dt\n",
    "    # Return entire trajectory\n",
    "    return X"
   ]
  },
  {
   "cell_type": "code",
   "execution_count": 21,
   "metadata": {
    "collapsed": false
   },
   "outputs": [
    {
     "name": "stdout",
     "output_type": "stream",
     "text": [
      "Transport took 0.044 seconds\n"
     ]
    },
    {
     "data": {
      "text/plain": [
       "(0, 1)"
      ]
     },
     "execution_count": 21,
     "metadata": {},
     "output_type": "execute_result"
    },
    {
     "data": {
      "image/png": "[encoded data removed]",
      "text/plain": [
       "<matplotlib.figure.Figure at 0x110a3a710>"
      ]
     },
     "metadata": {},
     "output_type": "display_data"
    }
   ],
   "source": [
    "N  = 10000\n",
    "X0 = grid_of_particles(N, w = 0.1)\n",
    "# Array to hold all grid points after transport\n",
    "X1 = np.zeros((2, N))\n",
    "\n",
    "# Transport parameters\n",
    "tmax = 5.0\n",
    "dt   = 0.5\n",
    "\n",
    "# Loop over grid and update all positions\n",
    "# This is where parallelisation would happen, since\n",
    "# each position is independent of all the others\n",
    "tic = time()\n",
    "# Keep only the last position, not the entire trajectory\n",
    "X1 = trajectory(X0, tmax, dt, rk4, f)\n",
    "toc = time()\n",
    "print('Transport took %.3f seconds' % (toc - tic))\n",
    "\n",
    "# Make scatter plot to show all grid points\n",
    "fig = plt.figure(figsize = (12,6))\n",
    "plt.scatter(X1[0,:], X1[1,:], lw = 0, marker = '.', s = 1)\n",
    "plt.xlim(0, 2)\n",
    "plt.ylim(0, 1)"
   ]
  },
  {
   "cell_type": "markdown",
   "metadata": {},
   "source": [
    "## Optimization - Step 4: Just-in-time compilation with Numba"
   ]
  },
  {
   "cell_type": "code",
   "execution_count": 22,
   "metadata": {
    "collapsed": false
   },
   "outputs": [],
   "source": [
    "# Implementation of Eq. (1) in the exam set\n",
    "@jit(UniTuple(float64[:], 2)(float64[:], float64[:], float64, float64, float64, float64), nopython = True)\n",
    "def doublegyre(x, y, t, A, e, w):\n",
    "    a = e * np.sin(w*t)\n",
    "    b = 1 - 2*e*np.sin(w*t)\n",
    "    f = a*x**2 + b*x\n",
    "    v = np.zeros((2, x.size))\n",
    "    return -np.pi*A*np.sin(np.pi*f) * np.cos(np.pi*y), np.pi*A*np.cos(np.pi*f) * np.sin(np.pi*y) * (2*a*x + b)\n",
    "\n",
    "# Wrapper function to pass to integrator\n",
    "# X0 is a two-component vector [x, y]\n",
    "@jit(nopython = True)\n",
    "def f(X, t):\n",
    "    # Parameters of the velocity field\n",
    "    A = np.float64(0.1)\n",
    "    e = np.float64(0.25) # epsilon\n",
    "    w = np.float64(1.0)  # omega\n",
    "    v = np.zeros(X.shape)\n",
    "    v[0,:], v[1,:] = doublegyre(X[0,:], X[1,:], t, A, e, w)\n",
    "    return v\n",
    "\n",
    "# 4th order Runge-Kutta integrator\n",
    "# X0 is a two-component vector [x, y]\n",
    "@jit(nopython = True)\n",
    "def rk4(X, t, dt):\n",
    "    k1 = f(X,           t)\n",
    "    k2 = f(X + k1*dt/2, t + dt/2)\n",
    "    k3 = f(X + k2*dt/2, t + dt/2)\n",
    "    k4 = f(X + k3*dt,   t + dt)\n",
    "    return X + dt*(k1 + 2*k2 + 2*k3 + k4) / 6\n",
    "\n",
    "\n",
    "# Function to calculate a trajectory from an\n",
    "# initial position X0 at t = 0, moving forward\n",
    "# until t = tmax, using the given timestep and\n",
    "# integrator\n",
    "@jit(nopython = True)\n",
    "def trajectory(X, tmax, dt):\n",
    "    t    = 0\n",
    "    # Number of timesteps\n",
    "    Nt = int(tmax / dt)\n",
    "    # Loop over all timesteps\n",
    "    for i in range(1, Nt+1):\n",
    "        X = rk4(X, t, dt)\n",
    "        t += dt\n",
    "    # Return entire trajectory\n",
    "    return X"
   ]
  },
  {
   "cell_type": "code",
   "execution_count": 30,
   "metadata": {
    "collapsed": false
   },
   "outputs": [
    {
     "name": "stdout",
     "output_type": "stream",
     "text": [
      "Transport took 0.034 seconds\n"
     ]
    },
    {
     "data": {
      "text/plain": [
       "(0, 1)"
      ]
     },
     "execution_count": 30,
     "metadata": {},
     "output_type": "execute_result"
    },
    {
     "data": {
      "image/png": "[encoded data removed]",
      "text/plain": [
       "<matplotlib.figure.Figure at 0x10ed74a90>"
      ]
     },
     "metadata": {},
     "output_type": "display_data"
    }
   ],
   "source": [
    "N  = 10000\n",
    "X0 = grid_of_particles(N, w = 0.1)\n",
    "# Array to hold all grid points after transport\n",
    "X1 = np.zeros((2, N))\n",
    "\n",
    "# Transport parameters\n",
    "tmax = 5.0\n",
    "dt   = 0.5\n",
    "\n",
    "# Loop over grid and update all positions\n",
    "# This is where parallelisation would happen, since\n",
    "# each position is independent of all the others\n",
    "tic = time()\n",
    "# Keep only the last position, not the entire trajectory\n",
    "X1 = endpoints(X0[:,:], tmax, dt)\n",
    "toc = time()\n",
    "print('Transport took %.3f seconds' % (toc - tic))\n",
    "\n",
    "# Make scatter plot to show all grid points\n",
    "fig = plt.figure(figsize = (12,6))\n",
    "plt.scatter(X1[0,:], X1[1,:], lw = 0, marker = '.', s = 1)\n",
    "plt.xlim(0, 2)\n",
    "plt.ylim(0, 1)"
   ]
  },
  {
   "cell_type": "code",
   "execution_count": 113,
   "metadata": {
    "collapsed": false
   },
   "outputs": [],
   "source": [
    "@jit(nopython = True)\n",
    "def timestep(x, y, dt, t):\n",
    "    Ab = 0.1\n",
    "    e = 0.25 # epsilon\n",
    "    w = 1.0  # omega\n",
    "    pi = 3.1415\n",
    "\n",
    "    # k1\n",
    "    k1x = -pi*Ab*np.sin(pi*(e * np.sin(w*t)*x**2 + (1 - 2*e*np.sin(w*t))*x)) * np.cos(pi*y)\n",
    "    k1y =  pi*Ab*np.cos(pi*(e * np.sin(w*t)*x**2 + (1 - 2*e*np.sin(w*t))*x)) * np.sin(pi*y) * (2*e * np.sin(w*t)*x + (1 - 2*e*np.sin(w*t)))\n",
    "    \n",
    "    # k2\n",
    "    k2x = -pi*Ab*np.sin(pi*(e * np.sin(w*(t + dt/2))*(x + k1x*dt/2)**2 + (1 - 2*e*np.sin(w*(t + dt/2)))*(x + k1x*dt/2)) * np.cos(pi*(y + k1y*dt/2)))\n",
    "    k2y =  pi*Ab*np.cos(pi*(e * np.sin(w*(t + dt/2))*(x + k1x*dt/2)**2 + (1 - 2*e*np.sin(w*(t + dt/2)))*(x + k1x*dt/2)) * np.sin(pi*(y + k1y*dt/2))) * (2*e * np.sin(w*(t + dt/2))*(x + k1x*dt/2) + (1 - 2*e*np.sin(w*(t + dt/2))))\n",
    "\n",
    "    # k3\n",
    "    k3x = -pi*Ab*np.sin(pi*(e * np.sin(w*(t + dt/2))*(x + k2x*dt/2)**2 + (1 - 2*e*np.sin(w*(t + dt/2)))*(x + k2x*dt/2))) * np.cos(pi*(y + k2y*dt/2))\n",
    "    k3y =  pi*Ab*np.cos(pi*(e * np.sin(w*(t + dt/2))*(x + k2x*dt/2)**2 + (1 - 2*e*np.sin(w*(t + dt/2)))*(x + k2x*dt/2))) * np.sin(pi*(y + k2y*dt/2)) * (2*e * np.sin(w*(t + dt/2))*(x + k2x*dt/2) + (1 - 2*e*np.sin(w*(t + dt/2))))\n",
    "\n",
    "    # k4\n",
    "    k4x = -pi*Ab*np.sin(pi*(e * np.sin(w*(t + dt))*(x + k3x*dt)**2 + (1 - 2*e*np.sin(w*(t + dt)))*(x + k3x*dt))) * np.cos(pi*(y + k3y*dt))\n",
    "    k4y =  pi*Ab*np.cos(pi*(e * np.sin(w*(t + dt))*(x + k3x*dt)**2 + (1 - 2*e*np.sin(w*(t + dt)))*(x + k3x*dt))) * np.sin(pi*(y + k3y*dt)) * (2*e * np.sin(w*(t + dt))*(x + k3x*dt) + (1 - 2*e*np.sin(w*(t + dt))))\n",
    "    \n",
    "    x = x + dt*(k1x + 2*k2x + 2*k3x + k4x)/6\n",
    "    y = y + dt*(k1y + 2*k2y + 2*k3y + k4y)/6\n",
    "    \n",
    "    return x, y\n",
    "\n",
    "@jit(nopython = True)\n",
    "def timestep2(x, y, dt, t):\n",
    "    Ab = 0.1\n",
    "    e = 0.25 # epsilon\n",
    "    w = 1.0  # omega\n",
    "    pi = 3.1415\n",
    "    \n",
    "    a = e * np.sin(w*t)\n",
    "    b = 1 - 2*e*np.sin(w*t)\n",
    "    f = a*x**2 + b*x\n",
    "    k1x = -pi*Ab*np.sin(pi*f) * np.cos(pi*y)\n",
    "    k1y =  pi*Ab*np.cos(pi*f) * np.sin(pi*y) * (2*a*x + b)\n",
    "\n",
    "    # k2\n",
    "    c = e * np.sin(w*t)\n",
    "    d = 1 - 2*e*np.sin(w*t)\n",
    "    g = a*x**2 + b*x\n",
    "    k2x = -pi*Ab*np.sin(pi*g) * np.cos(pi*y)\n",
    "    k2y =  pi*Ab*np.cos(pi*g) * np.sin(pi*y) * (2*c*x + d)\n",
    "\n",
    "    k3x = 0.2\n",
    "    k3y = 0.2\n",
    "    k4x = 0.2\n",
    "    k4y = 0.2\n",
    "    x = x + dt*(k1x + 2*k2x + 2*k3x + k4x)/6\n",
    "    y = y + dt*(k1y + 2*k2y + 2*k3y + k4y)/6\n",
    "    return x,  y\n",
    "\n",
    "# Function to calculate a trajectory from an\n",
    "# initial position X0 at t = 0, moving forward\n",
    "# until t = tmax, using the given timestep and\n",
    "# integrator\n",
    "#@jit(nopython = True)\n",
    "def trajectory(X, tmax, dt):\n",
    "    t    = 0\n",
    "    # Number of timesteps\n",
    "    Nt = int(tmax / dt)\n",
    "    # Loop over all timesteps\n",
    "    x = X[0,:]\n",
    "    y = X[1,:]\n",
    "    for i in range(1, Nt+1):\n",
    "        x, y = timestep(x, y, dt, t)\n",
    "        t += dt\n",
    "    # Return entire trajectory\n",
    "    return X"
   ]
  },
  {
   "cell_type": "code",
   "execution_count": 114,
   "metadata": {
    "collapsed": false
   },
   "outputs": [
    {
     "name": "stdout",
     "output_type": "stream",
     "text": [
      "Transport took 3.735 seconds\n"
     ]
    },
    {
     "data": {
      "text/plain": [
       "(0, 1)"
      ]
     },
     "execution_count": 114,
     "metadata": {},
     "output_type": "execute_result"
    },
    {
     "data": {
      "image/png": "[encoded data removed]",
      "text/plain": [
       "<matplotlib.figure.Figure at 0x11403ca20>"
      ]
     },
     "metadata": {},
     "output_type": "display_data"
    }
   ],
   "source": [
    "N  = 10000\n",
    "X0 = grid_of_particles(N, w = 0.1)\n",
    "# Array to hold all grid points after transport\n",
    "X1 = np.zeros((2, N))\n",
    "\n",
    "# Transport parameters\n",
    "tmax = 5.0\n",
    "dt   = 0.5\n",
    "\n",
    "# Loop over grid and update all positions\n",
    "# This is where parallelisation would happen, since\n",
    "# each position is independent of all the others\n",
    "tic = time()\n",
    "# Keep only the last position, not the entire trajectory\n",
    "X1 = trajectory(X0[:,:], tmax, dt)\n",
    "toc = time()\n",
    "print('Transport took %.3f seconds' % (toc - tic))\n",
    "\n",
    "# Make scatter plot to show all grid points\n",
    "fig = plt.figure(figsize = (12,6))\n",
    "plt.scatter(X1[0,:], X1[1,:], lw = 0, marker = '.', s = 1)\n",
    "plt.xlim(0, 2)\n",
    "plt.ylim(0, 1)"
   ]
  },
  {
   "cell_type": "code",
   "execution_count": null,
   "metadata": {
    "collapsed": true
   },
   "outputs": [],
   "source": []
  }
 ],
 "metadata": {
  "anaconda-cloud": {},
  "kernelspec": {
   "display_name": "Python [Root]",
   "language": "python",
   "name": "Python [Root]"
  },
  "language_info": {
   "codemirror_mode": {
    "name": "ipython",
    "version": 3
   },
   "file_extension": ".py",
   "mimetype": "text/x-python",
   "name": "python",
   "nbconvert_exporter": "python",
   "pygments_lexer": "ipython3",
   "version": "3.5.1"
  }
 },
 "nbformat": 4,
 "nbformat_minor": 0
}

{
 "cells": [
  {
   "cell_type": "code",
   "execution_count": 1,
   "metadata": {
    "collapsed": true
   },
   "outputs": [],
   "source": [
    "%matplotlib inline\n",
    "import numpy as np\n",
    "from matplotlib import pyplot as plt\n",
    "plt.style.use('bmh')\n",
    "from numba import jit"
   ]
  },
  {
   "cell_type": "markdown",
   "metadata": {},
   "source": [
    "# The big picture idea of how to implement parallel transport calculations"
   ]
  },
  {
   "cell_type": "code",
   "execution_count": 5,
   "metadata": {
    "collapsed": false
   },
   "outputs": [],
   "source": [
    "# Dummy functions\n",
    "\n",
    "def timestep(X, dt, t):\n",
    "    # Use double gyre and RK4 to calculate new functions\n",
    "    return X\n",
    "\n",
    "def exchange(X):\n",
    "    # Handle all the communication stuff here\n",
    "    # return the updated particle arrays\n",
    "    # (which may be of a different length now)\n",
    "    return X\n",
    "\n",
    "def save(X, filename):\n",
    "    # save some data to disk, for example particle positions\n",
    "    # (each rank can save its own particles to a separate file)\n",
    "    pass"
   ]
  },
  {
   "cell_type": "code",
   "execution_count": 2,
   "metadata": {
    "collapsed": true
   },
   "outputs": [],
   "source": [
    "# Some parameters\n",
    "# Number of particles\n",
    "Np = 10000\n",
    "# Integrator timestep\n",
    "dt = 0.1\n",
    "# Number of timesteps between each communication event\n",
    "Ndt = 10\n",
    "# Time to run simulation\n",
    "Tmax = 10\n",
    "t    = 0\n",
    "\n",
    "# Get initial positions, from file or random or other\n",
    "X = np.random.random((2, Np))\n",
    "\n",
    "# Main loop\n",
    "while t < Tmax:\n",
    "    # Take Ndt timesteps\n",
    "    for i in range(Ndt):\n",
    "        X  = timestep(X, dt, t)\n",
    "        t += dt\n",
    "    # Then communicate\n",
    "    X = exchange(X)\n",
    "    # Then calculate concentration\n",
    "    \n",
    "    \n",
    "\n"
   ]
  },
  {
   "cell_type": "code",
   "execution_count": null,
   "metadata": {
    "collapsed": true
   },
   "outputs": [],
   "source": []
  }
 ],
 "metadata": {
  "anaconda-cloud": {},
  "kernelspec": {
   "display_name": "Python [Root]",
   "language": "python",
   "name": "Python [Root]"
  },
  "language_info": {
   "codemirror_mode": {
    "name": "ipython",
    "version": 3
   },
   "file_extension": ".py",
   "mimetype": "text/x-python",
   "name": "python",
   "nbconvert_exporter": "python",
   "pygments_lexer": "ipython3",
   "version": "3.5.1"
  }
 },
 "nbformat": 4,
 "nbformat_minor": 0
}

{
 "cells": [
  {
   "cell_type": "code",
   "execution_count": 1,
   "metadata": {
    "collapsed": true
   },
   "outputs": [],
   "source": [
    "%matplotlib inline\n",
    "import numpy as np\n",
    "import os\n",
    "\n",
    "import matplotlib.pyplot as plt\n",
    "plt.style.use('bmh')"
   ]
  },
  {
   "cell_type": "code",
   "execution_count": 2,
   "metadata": {
    "collapsed": true
   },
   "outputs": [],
   "source": [
    "x_min = 0\n",
    "y_min = 0\n",
    "x_max = 2 # x_max\n",
    "y_max = 1 # y_max\n",
    "\n",
    "# rectangular grid of points\n",
    "# specify resolution\n",
    "Nx = 10\n",
    "Ny = 5\n",
    "# specify limit of particle rectangle\n",
    "particles_x_min = 0.9\n",
    "particles_x_max = 1.1\n",
    "particles_y_min = 0.4\n",
    "particles_y_max = 0.6\n",
    "\n",
    "# particles_x_min = 0\n",
    "# particles_x_max = 2\n",
    "# particles_y_min = 0\n",
    "# particles_y_max = 1\n",
    "\n",
    "paritcle_n = Nx*Ny"
   ]
  },
  {
   "cell_type": "code",
   "execution_count": 3,
   "metadata": {
    "collapsed": true
   },
   "outputs": [],
   "source": [
    "# create lists of all x and y positions\n",
    "X  = np.linspace(particles_x_min, particles_x_max, Nx, endpoint = False)\n",
    "Y  = np.linspace(particles_y_min, particles_y_max, Ny, endpoint = False)"
   ]
  },
  {
   "cell_type": "code",
   "execution_count": 4,
   "metadata": {
    "collapsed": false
   },
   "outputs": [
    {
     "data": {
      "text/plain": [
       "array([ 0.9 ,  0.92,  0.94,  0.96,  0.98,  1.  ,  1.02,  1.04,  1.06,  1.08])"
      ]
     },
     "execution_count": 4,
     "metadata": {},
     "output_type": "execute_result"
    }
   ],
   "source": [
    "X"
   ]
  },
  {
   "cell_type": "code",
   "execution_count": 5,
   "metadata": {
    "collapsed": false
   },
   "outputs": [
    {
     "data": {
      "text/plain": [
       "array([ 0.4 ,  0.44,  0.48,  0.52,  0.56])"
      ]
     },
     "execution_count": 5,
     "metadata": {},
     "output_type": "execute_result"
    }
   ],
   "source": [
    "Y"
   ]
  },
  {
   "cell_type": "code",
   "execution_count": 6,
   "metadata": {
    "collapsed": false
   },
   "outputs": [
    {
     "data": {
      "text/plain": [
       "[array([[ 0.9 ,  0.92,  0.94,  0.96,  0.98,  1.  ,  1.02,  1.04,  1.06,\n",
       "          1.08],\n",
       "        [ 0.9 ,  0.92,  0.94,  0.96,  0.98,  1.  ,  1.02,  1.04,  1.06,\n",
       "          1.08],\n",
       "        [ 0.9 ,  0.92,  0.94,  0.96,  0.98,  1.  ,  1.02,  1.04,  1.06,\n",
       "          1.08],\n",
       "        [ 0.9 ,  0.92,  0.94,  0.96,  0.98,  1.  ,  1.02,  1.04,  1.06,\n",
       "          1.08],\n",
       "        [ 0.9 ,  0.92,  0.94,  0.96,  0.98,  1.  ,  1.02,  1.04,  1.06,\n",
       "          1.08]]),\n",
       " array([[ 0.4 ,  0.4 ,  0.4 ,  0.4 ,  0.4 ,  0.4 ,  0.4 ,  0.4 ,  0.4 ,  0.4 ],\n",
       "        [ 0.44,  0.44,  0.44,  0.44,  0.44,  0.44,  0.44,  0.44,  0.44,\n",
       "          0.44],\n",
       "        [ 0.48,  0.48,  0.48,  0.48,  0.48,  0.48,  0.48,  0.48,  0.48,\n",
       "          0.48],\n",
       "        [ 0.52,  0.52,  0.52,  0.52,  0.52,  0.52,  0.52,  0.52,  0.52,\n",
       "          0.52],\n",
       "        [ 0.56,  0.56,  0.56,  0.56,  0.56,  0.56,  0.56,  0.56,  0.56,\n",
       "          0.56]])]"
      ]
     },
     "execution_count": 6,
     "metadata": {},
     "output_type": "execute_result"
    }
   ],
   "source": [
    "#XY = np.zeros((2, Ny, Nx))\n",
    "# Use meshgrid to turn lists into rank 2 arrays\n",
    "# of x and y positions\n",
    "XY = np.meshgrid(X, Y)\n",
    "XY"
   ]
  },
  {
   "cell_type": "code",
   "execution_count": 7,
   "metadata": {
    "collapsed": false
   },
   "outputs": [
    {
     "data": {
      "text/plain": [
       "array([ 0,  1,  2,  3,  4,  5,  6,  7,  8,  9, 10, 11, 12, 13, 14, 15, 16,\n",
       "       17, 18, 19, 20, 21, 22, 23, 24, 25, 26, 27, 28, 29, 30, 31, 32, 33,\n",
       "       34, 35, 36, 37, 38, 39, 40, 41, 42, 43, 44, 45, 46, 47, 48, 49])"
      ]
     },
     "execution_count": 7,
     "metadata": {},
     "output_type": "execute_result"
    }
   ],
   "source": [
    "particle_id = np.arange(paritcle_n)\n",
    "particle_id"
   ]
  },
  {
   "cell_type": "code",
   "execution_count": 8,
   "metadata": {
    "collapsed": false
   },
   "outputs": [
    {
     "data": {
      "text/plain": [
       "array([ 0.9 ,  0.92,  0.94,  0.96,  0.98,  1.  ,  1.02,  1.04,  1.06,\n",
       "        1.08,  0.9 ,  0.92,  0.94,  0.96,  0.98,  1.  ,  1.02,  1.04,\n",
       "        1.06,  1.08,  0.9 ,  0.92,  0.94,  0.96,  0.98,  1.  ,  1.02,\n",
       "        1.04,  1.06,  1.08,  0.9 ,  0.92,  0.94,  0.96,  0.98,  1.  ,\n",
       "        1.02,  1.04,  1.06,  1.08,  0.9 ,  0.92,  0.94,  0.96,  0.98,\n",
       "        1.  ,  1.02,  1.04,  1.06,  1.08])"
      ]
     },
     "execution_count": 8,
     "metadata": {},
     "output_type": "execute_result"
    }
   ],
   "source": [
    "particle_x = np.hstack(XY[:][0])\n",
    "particle_x"
   ]
  },
  {
   "cell_type": "code",
   "execution_count": 9,
   "metadata": {
    "collapsed": false
   },
   "outputs": [
    {
     "data": {
      "text/plain": [
       "array([ 0.4 ,  0.4 ,  0.4 ,  0.4 ,  0.4 ,  0.4 ,  0.4 ,  0.4 ,  0.4 ,\n",
       "        0.4 ,  0.44,  0.44,  0.44,  0.44,  0.44,  0.44,  0.44,  0.44,\n",
       "        0.44,  0.44,  0.48,  0.48,  0.48,  0.48,  0.48,  0.48,  0.48,\n",
       "        0.48,  0.48,  0.48,  0.52,  0.52,  0.52,  0.52,  0.52,  0.52,\n",
       "        0.52,  0.52,  0.52,  0.52,  0.56,  0.56,  0.56,  0.56,  0.56,\n",
       "        0.56,  0.56,  0.56,  0.56,  0.56])"
      ]
     },
     "execution_count": 9,
     "metadata": {},
     "output_type": "execute_result"
    }
   ],
   "source": [
    "particle_y = np.hstack(XY[:][1])\n",
    "particle_y"
   ]
  },
  {
   "cell_type": "code",
   "execution_count": 10,
   "metadata": {
    "collapsed": false
   },
   "outputs": [
    {
     "data": {
      "text/plain": [
       "array([ 0.9  ,  0.904,  0.908,  0.912,  0.916,  0.92 ,  0.924,  0.928,\n",
       "        0.932,  0.936,  0.94 ,  0.944,  0.948,  0.952,  0.956,  0.96 ,\n",
       "        0.964,  0.968,  0.972,  0.976,  0.98 ,  0.984,  0.988,  0.992,\n",
       "        0.996,  1.   ,  1.004,  1.008,  1.012,  1.016,  1.02 ,  1.024,\n",
       "        1.028,  1.032,  1.036,  1.04 ,  1.044,  1.048,  1.052,  1.056,\n",
       "        1.06 ,  1.064,  1.068,  1.072,  1.076,  1.08 ,  1.084,  1.088,\n",
       "        1.092,  1.096])"
      ]
     },
     "execution_count": 10,
     "metadata": {},
     "output_type": "execute_result"
    }
   ],
   "source": [
    "# coordinates directly\n",
    "x  = np.linspace(particles_x_min, particles_x_max, paritcle_n , endpoint = False)\n",
    "y  = np.linspace(particles_y_min, particles_y_max, paritcle_n, endpoint = False)\n",
    "x"
   ]
  },
  {
   "cell_type": "code",
   "execution_count": 11,
   "metadata": {
    "collapsed": false
   },
   "outputs": [
    {
     "data": {
      "text/plain": [
       "array([ 0.4  ,  0.404,  0.408,  0.412,  0.416,  0.42 ,  0.424,  0.428,\n",
       "        0.432,  0.436,  0.44 ,  0.444,  0.448,  0.452,  0.456,  0.46 ,\n",
       "        0.464,  0.468,  0.472,  0.476,  0.48 ,  0.484,  0.488,  0.492,\n",
       "        0.496,  0.5  ,  0.504,  0.508,  0.512,  0.516,  0.52 ,  0.524,\n",
       "        0.528,  0.532,  0.536,  0.54 ,  0.544,  0.548,  0.552,  0.556,\n",
       "        0.56 ,  0.564,  0.568,  0.572,  0.576,  0.58 ,  0.584,  0.588,\n",
       "        0.592,  0.596])"
      ]
     },
     "execution_count": 11,
     "metadata": {},
     "output_type": "execute_result"
    }
   ],
   "source": [
    "y"
   ]
  },
  {
   "cell_type": "code",
   "execution_count": 13,
   "metadata": {
    "collapsed": false
   },
   "outputs": [
    {
     "data": {
      "text/plain": [
       "[array([ 0.9  ,  0.904,  0.908,  0.912,  0.916,  0.92 ,  0.924,  0.928,\n",
       "         0.932,  0.936,  0.94 ,  0.944,  0.948,  0.952,  0.956,  0.96 ,\n",
       "         0.964,  0.968,  0.972,  0.976,  0.98 ,  0.984,  0.988,  0.992,\n",
       "         0.996,  1.   ,  1.004,  1.008,  1.012,  1.016,  1.02 ,  1.024,\n",
       "         1.028,  1.032,  1.036,  1.04 ,  1.044,  1.048,  1.052,  1.056,\n",
       "         1.06 ,  1.064,  1.068,  1.072,  1.076,  1.08 ,  1.084,  1.088,\n",
       "         1.092,  1.096]),\n",
       " array([ 0.4  ,  0.404,  0.408,  0.412,  0.416,  0.42 ,  0.424,  0.428,\n",
       "         0.432,  0.436,  0.44 ,  0.444,  0.448,  0.452,  0.456,  0.46 ,\n",
       "         0.464,  0.468,  0.472,  0.476,  0.48 ,  0.484,  0.488,  0.492,\n",
       "         0.496,  0.5  ,  0.504,  0.508,  0.512,  0.516,  0.52 ,  0.524,\n",
       "         0.528,  0.532,  0.536,  0.54 ,  0.544,  0.548,  0.552,  0.556,\n",
       "         0.56 ,  0.564,  0.568,  0.572,  0.576,  0.58 ,  0.584,  0.588,\n",
       "         0.592,  0.596])]"
      ]
     },
     "execution_count": 13,
     "metadata": {},
     "output_type": "execute_result"
    }
   ],
   "source": [
    "# 2-rank array:\n",
    "XY = [x, y]\n",
    "XY"
   ]
  },
  {
   "cell_type": "code",
   "execution_count": 14,
   "metadata": {
    "collapsed": false
   },
   "outputs": [
    {
     "data": {
      "text/plain": [
       "array([[ 0.9  ,  0.904,  0.908,  0.912,  0.916,  0.92 ,  0.924,  0.928,\n",
       "         0.932,  0.936,  0.94 ,  0.944,  0.948,  0.952,  0.956,  0.96 ,\n",
       "         0.964,  0.968,  0.972,  0.976,  0.98 ,  0.984,  0.988,  0.992,\n",
       "         0.996,  1.   ,  1.004,  1.008,  1.012,  1.016,  1.02 ,  1.024,\n",
       "         1.028,  1.032,  1.036,  1.04 ,  1.044,  1.048,  1.052,  1.056,\n",
       "         1.06 ,  1.064,  1.068,  1.072,  1.076,  1.08 ,  1.084,  1.088,\n",
       "         1.092,  1.096],\n",
       "       [ 0.4  ,  0.404,  0.408,  0.412,  0.416,  0.42 ,  0.424,  0.428,\n",
       "         0.432,  0.436,  0.44 ,  0.444,  0.448,  0.452,  0.456,  0.46 ,\n",
       "         0.464,  0.468,  0.472,  0.476,  0.48 ,  0.484,  0.488,  0.492,\n",
       "         0.496,  0.5  ,  0.504,  0.508,  0.512,  0.516,  0.52 ,  0.524,\n",
       "         0.528,  0.532,  0.536,  0.54 ,  0.544,  0.548,  0.552,  0.556,\n",
       "         0.56 ,  0.564,  0.568,  0.572,  0.576,  0.58 ,  0.584,  0.588,\n",
       "         0.592,  0.596]])"
      ]
     },
     "execution_count": 14,
     "metadata": {},
     "output_type": "execute_result"
    }
   ],
   "source": [
    "np.array([x, y])"
   ]
  },
  {
   "cell_type": "code",
   "execution_count": 65,
   "metadata": {
    "collapsed": false
   },
   "outputs": [
    {
     "data": {
      "text/plain": [
       "(0, 1)"
      ]
     },
     "execution_count": 65,
     "metadata": {},
     "output_type": "execute_result"
    },
    {
     "data": {
      "image/png": "[encoded data removed]",
      "text/plain": [
       "<matplotlib.figure.Figure at 0x1fa1ad14978>"
      ]
     },
     "metadata": {},
     "output_type": "display_data"
    }
   ],
   "source": [
    "plt.scatter(particle_x, particle_y)\n",
    "plt.xlim(x_min, x_max)\n",
    "plt.ylim(y_min, y_max)"
   ]
  },
  {
   "cell_type": "code",
   "execution_count": 66,
   "metadata": {
    "collapsed": false
   },
   "outputs": [
    {
     "data": {
      "text/plain": [
       "array([[ 0. ,  0.2,  0.4,  0.6,  0.8,  1. ,  1.2,  1.4,  1.6,  1.8],\n",
       "       [ 0. ,  0.2,  0.4,  0.6,  0.8,  1. ,  1.2,  1.4,  1.6,  1.8],\n",
       "       [ 0. ,  0.2,  0.4,  0.6,  0.8,  1. ,  1.2,  1.4,  1.6,  1.8],\n",
       "       [ 0. ,  0.2,  0.4,  0.6,  0.8,  1. ,  1.2,  1.4,  1.6,  1.8],\n",
       "       [ 0. ,  0.2,  0.4,  0.6,  0.8,  1. ,  1.2,  1.4,  1.6,  1.8]])"
      ]
     },
     "execution_count": 66,
     "metadata": {},
     "output_type": "execute_result"
    }
   ],
   "source": [
    "XY[0][:]"
   ]
  },
  {
   "cell_type": "code",
   "execution_count": 67,
   "metadata": {
    "collapsed": false
   },
   "outputs": [
    {
     "data": {
      "text/plain": [
       "array([[ 0. ,  0.2,  0.4,  0.6,  0.8,  1. ,  1.2,  1.4,  1.6,  1.8],\n",
       "       [ 0. ,  0.2,  0.4,  0.6,  0.8,  1. ,  1.2,  1.4,  1.6,  1.8],\n",
       "       [ 0. ,  0.2,  0.4,  0.6,  0.8,  1. ,  1.2,  1.4,  1.6,  1.8],\n",
       "       [ 0. ,  0.2,  0.4,  0.6,  0.8,  1. ,  1.2,  1.4,  1.6,  1.8],\n",
       "       [ 0. ,  0.2,  0.4,  0.6,  0.8,  1. ,  1.2,  1.4,  1.6,  1.8]])"
      ]
     },
     "execution_count": 67,
     "metadata": {},
     "output_type": "execute_result"
    }
   ],
   "source": [
    "XY[:][0]"
   ]
  },
  {
   "cell_type": "code",
   "execution_count": 79,
   "metadata": {
    "collapsed": false
   },
   "outputs": [
    {
     "data": {
      "text/plain": [
       "array([[1, 2],\n",
       "       [3, 4]])"
      ]
     },
     "execution_count": 79,
     "metadata": {},
     "output_type": "execute_result"
    }
   ],
   "source": [
    "a = np.array([[1, 2], [3, 4]])\n",
    "a"
   ]
  },
  {
   "cell_type": "code",
   "execution_count": 78,
   "metadata": {
    "collapsed": false
   },
   "outputs": [
    {
     "data": {
      "text/plain": [
       "array([1, 2])"
      ]
     },
     "execution_count": 78,
     "metadata": {},
     "output_type": "execute_result"
    }
   ],
   "source": [
    "a[0][:]"
   ]
  },
  {
   "cell_type": "code",
   "execution_count": 80,
   "metadata": {
    "collapsed": false
   },
   "outputs": [
    {
     "data": {
      "text/plain": [
       "array([1, 2])"
      ]
     },
     "execution_count": 80,
     "metadata": {},
     "output_type": "execute_result"
    }
   ],
   "source": [
    "a[:][0]"
   ]
  },
  {
   "cell_type": "code",
   "execution_count": 86,
   "metadata": {
    "collapsed": false
   },
   "outputs": [
    {
     "data": {
      "text/plain": [
       "array([3, 4])"
      ]
     },
     "execution_count": 86,
     "metadata": {},
     "output_type": "execute_result"
    }
   ],
   "source": [
    "a[:][1]"
   ]
  },
  {
   "cell_type": "code",
   "execution_count": 94,
   "metadata": {
    "collapsed": false
   },
   "outputs": [
    {
     "data": {
      "text/plain": [
       "array([1, 2])"
      ]
     },
     "execution_count": 94,
     "metadata": {},
     "output_type": "execute_result"
    }
   ],
   "source": [
    "a[0]"
   ]
  },
  {
   "cell_type": "code",
   "execution_count": 100,
   "metadata": {
    "collapsed": false
   },
   "outputs": [
    {
     "data": {
      "text/plain": [
       "array([ 0,  4,  8, 12, 16, 20, 24, 28, 32, 36, 40, 44, 48])"
      ]
     },
     "execution_count": 100,
     "metadata": {},
     "output_type": "execute_result"
    }
   ],
   "source": [
    "particle_id[0::4]"
   ]
  },
  {
   "cell_type": "code",
   "execution_count": 101,
   "metadata": {
    "collapsed": false
   },
   "outputs": [
    {
     "data": {
      "text/plain": [
       "array([ 1,  5,  9, 13, 17, 21, 25, 29, 33, 37, 41, 45, 49])"
      ]
     },
     "execution_count": 101,
     "metadata": {},
     "output_type": "execute_result"
    }
   ],
   "source": [
    "particle_id[1::4]"
   ]
  },
  {
   "cell_type": "code",
   "execution_count": 102,
   "metadata": {
    "collapsed": false
   },
   "outputs": [
    {
     "data": {
      "text/plain": [
       "array([ 2,  6, 10, 14, 18, 22, 26, 30, 34, 38, 42, 46])"
      ]
     },
     "execution_count": 102,
     "metadata": {},
     "output_type": "execute_result"
    }
   ],
   "source": [
    "particle_id[2::4]"
   ]
  },
  {
   "cell_type": "code",
   "execution_count": 103,
   "metadata": {
    "collapsed": false
   },
   "outputs": [
    {
     "data": {
      "text/plain": [
       "array([ 3,  7, 11, 15, 19, 23, 27, 31, 35, 39, 43, 47])"
      ]
     },
     "execution_count": 103,
     "metadata": {},
     "output_type": "execute_result"
    }
   ],
   "source": [
    "particle_id[3::4]"
   ]
  },
  {
   "cell_type": "code",
   "execution_count": 104,
   "metadata": {
    "collapsed": false
   },
   "outputs": [
    {
     "data": {
      "text/plain": [
       "array([ 4,  8, 12, 16, 20, 24, 28, 32, 36, 40, 44, 48])"
      ]
     },
     "execution_count": 104,
     "metadata": {},
     "output_type": "execute_result"
    }
   ],
   "source": [
    "particle_id[4::4]"
   ]
  },
  {
   "cell_type": "code",
   "execution_count": null,
   "metadata": {
    "collapsed": true
   },
   "outputs": [],
   "source": []
  }
 ],
 "metadata": {
  "anaconda-cloud": {},
  "kernelspec": {
   "display_name": "Python [Root]",
   "language": "python",
   "name": "Python [Root]"
  },
  "language_info": {
   "codemirror_mode": {
    "name": "ipython",
    "version": 3
   },
   "file_extension": ".py",
   "mimetype": "text/x-python",
   "name": "python",
   "nbconvert_exporter": "python",
   "pygments_lexer": "ipython3",
   "version": "3.5.2"
  }
 },
 "nbformat": 4,
 "nbformat_minor": 0
}

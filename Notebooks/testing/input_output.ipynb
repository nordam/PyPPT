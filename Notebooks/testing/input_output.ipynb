{
 "cells": [
  {
   "cell_type": "code",
   "execution_count": 1,
   "metadata": {
    "collapsed": true
   },
   "outputs": [],
   "source": [
    "%matplotlib inline\n",
    "import numpy as np\n",
    "import os\n",
    "\n",
    "import matplotlib.pyplot as plt\n",
    "plt.style.use('bmh')"
   ]
  },
  {
   "cell_type": "code",
   "execution_count": 2,
   "metadata": {
    "collapsed": true
   },
   "outputs": [],
   "source": [
    "rank = 0"
   ]
  },
  {
   "cell_type": "code",
   "execution_count": 7,
   "metadata": {
    "collapsed": false
   },
   "outputs": [
    {
     "name": "stdout",
     "output_type": "stream",
     "text": [
      "0outfile\n"
     ]
    }
   ],
   "source": [
    "file_name = str(rank) + \"outfile\"\n",
    "print(file_name)"
   ]
  },
  {
   "cell_type": "code",
   "execution_count": 2,
   "metadata": {
    "collapsed": false
   },
   "outputs": [],
   "source": [
    "a = np.zeros(1)"
   ]
  },
  {
   "cell_type": "code",
   "execution_count": 9,
   "metadata": {
    "collapsed": true
   },
   "outputs": [],
   "source": [
    "np.save(\"test_file\", a)"
   ]
  },
  {
   "cell_type": "code",
   "execution_count": 13,
   "metadata": {
    "collapsed": false
   },
   "outputs": [
    {
     "data": {
      "text/plain": [
       "<function ntpath.join>"
      ]
     },
     "execution_count": 13,
     "metadata": {},
     "output_type": "execute_result"
    }
   ],
   "source": [
    "os.path.join"
   ]
  },
  {
   "cell_type": "code",
   "execution_count": 28,
   "metadata": {
    "collapsed": false
   },
   "outputs": [
    {
     "data": {
      "text/plain": [
       "array([ 0.68660117,  0.4700113 ,  0.00182944, ...,  0.37629773,\n",
       "        0.92836542,  0.68284406])"
      ]
     },
     "execution_count": 28,
     "metadata": {},
     "output_type": "execute_result"
    }
   ],
   "source": [
    "rng = np.random.rand(100000)\n",
    "rng"
   ]
  },
  {
   "cell_type": "code",
   "execution_count": 8,
   "metadata": {
    "collapsed": false
   },
   "outputs": [
    {
     "data": {
      "text/plain": [
       "array([ -4.97892167e-01,  -6.53039908e-01,   4.56859332e-01,\n",
       "        -2.05651951e-01,  -1.25713336e-01,  -2.25108000e-01,\n",
       "         1.14127305e+00,  -7.16936766e-01,   4.78725552e-01,\n",
       "         2.84455531e-01,   1.82895608e-01,  -7.90548488e-01,\n",
       "         5.27661606e-02,   1.33173976e+00,  -1.09082641e+00,\n",
       "         5.85395494e-01,  -2.46741107e+00,   1.44141381e+00,\n",
       "         1.97212771e+00,   1.45568275e+00,  -8.82301453e-01,\n",
       "         8.02947192e-01,   1.20325681e+00,  -8.71760872e-01,\n",
       "         2.12104330e+00,  -8.70712577e-01,   1.45437192e+00,\n",
       "         1.47686285e+00,  -3.63321455e-01,  -1.48889696e-02,\n",
       "        -9.78469550e-01,  -4.03872131e-01,  -1.24045605e+00,\n",
       "        -9.86415063e-01,   1.09561986e+00,   2.59159084e+00,\n",
       "        -2.85757106e-01,   7.48306506e-01,   9.61170385e-01,\n",
       "         9.46854793e-01,  -5.08117370e-01,   9.34767882e-02,\n",
       "        -1.71442852e+00,   1.04730874e+00,  -5.29851486e-01,\n",
       "        -6.84764196e-02,  -1.19848659e-01,  -1.09403747e-01,\n",
       "         5.39965019e-01,  -1.35967061e+00,   2.22705770e-01,\n",
       "        -5.70137906e-01,  -4.52743477e-01,  -1.11004993e+00,\n",
       "         8.11991365e-01,   2.83578841e-02,   6.80177377e-02,\n",
       "         7.43953639e-01,   4.87346827e-01,  -4.77494574e-01,\n",
       "        -7.01715727e-01,  -1.96246792e+00,  -2.10477697e-01,\n",
       "         4.64307030e-02,   6.07075549e-01,   1.21239630e+00,\n",
       "        -6.69626674e-01,   4.47619987e-01,  -1.17314921e+00,\n",
       "         1.00184743e-01,   8.03581587e-01,   5.16054163e-01,\n",
       "        -9.76599190e-01,   4.81132223e-01,   1.56766123e-01,\n",
       "        -5.50944457e-01,   1.59834399e+00,   1.26825180e+00,\n",
       "         8.54850868e-01,   2.15735949e-01,  -5.32339792e-03,\n",
       "        -8.32324291e-01,   1.01679940e+00,  -7.80417478e-02,\n",
       "         6.35215363e-01,  -2.82278739e-01,   5.20607052e-01,\n",
       "        -8.04368099e-01,  -1.72143621e+00,  -7.43467024e-01,\n",
       "        -1.11762751e+00,  -1.58927647e+00,  -1.45230924e+00,\n",
       "        -1.12721267e+00,   2.60193680e-01,  -2.36041774e+00,\n",
       "        -3.44271167e-01,   6.07934120e-01,   1.83727402e+00,\n",
       "         1.19807100e-01,  -7.31600308e-01,   1.25751699e-01,\n",
       "        -6.23923553e-01,  -3.95504709e-01,   3.30862451e-01,\n",
       "        -1.24127987e+00,   1.21047990e+00,  -2.17553613e+00,\n",
       "         2.70333928e+00,   1.19258285e+00,   1.37948130e-01,\n",
       "        -7.10579454e-01,   4.11415980e-01,   4.53440807e-01,\n",
       "         5.68611300e-01,  -1.90770310e-02,   1.23561568e+00,\n",
       "         2.65742957e+00,   5.13911243e-01,   5.08613276e-01,\n",
       "         1.74184645e+00,   8.15841054e-01,   1.08688935e+00,\n",
       "        -5.76714121e-02,   1.52117058e+00,   1.38664827e+00,\n",
       "        -2.34021445e-01,   9.29773866e-01,   3.78673868e-01,\n",
       "        -4.68096533e-01,   7.08745950e-01,  -7.11313046e-01,\n",
       "         4.82688855e-02,   1.22158890e+00,  -5.23424220e-01,\n",
       "         6.70919293e-01,   3.30447620e-01,  -5.28001847e-01,\n",
       "         5.37922147e-01,   1.92917110e-01,   2.60067068e+00,\n",
       "        -2.23718811e-01,   2.65139818e-02,   3.08540401e-01,\n",
       "        -4.94534468e-01,  -1.25725084e+00,   1.83282559e+00,\n",
       "         7.12856790e-01,   6.24630057e-01,  -1.38896597e+00,\n",
       "         3.13144698e-01,   8.82927165e-02,  -1.78723428e+00,\n",
       "        -4.08352757e-01,  -2.71812258e-01,  -4.67471597e-01,\n",
       "        -1.30194072e+00,  -5.67855439e-01,   1.18896717e-01,\n",
       "        -7.74058860e-01,  -1.93399676e+00,   1.87098839e-02,\n",
       "        -7.97494801e-01,  -7.72674669e-01,  -1.11270349e+00,\n",
       "        -8.68032898e-02,   5.22231475e-01,   5.22305183e-01,\n",
       "         5.77553260e-01,  -5.89527516e-01,  -6.72746250e-01,\n",
       "         5.73132773e-01,   1.61291932e+00,   2.15829397e-02,\n",
       "         1.53248273e+00,   2.99100247e-01,   2.47429163e+00,\n",
       "        -7.40644430e-01,  -1.34282652e+00,   4.98151104e-01,\n",
       "         9.88279256e-01,   1.74845395e-02,  -1.96626190e-01,\n",
       "         8.56338092e-01,   4.39137532e-01,   2.61459887e-01,\n",
       "        -3.09292337e-01,   3.76333114e-01,   5.46290821e-01,\n",
       "         1.71647430e+00,   8.77964192e-01,  -9.76959511e-01,\n",
       "         9.24940661e-02,  -1.39407627e+00,   1.58010068e-01,\n",
       "        -1.45075553e+00,  -1.32036988e+00,  -8.59573170e-01,\n",
       "        -1.07064084e-01,  -4.57090865e-01,   5.35197204e-01,\n",
       "        -1.02902298e+00,   1.13391689e+00,   8.24243582e-01,\n",
       "        -6.39818288e-01,   8.86986635e-01,   2.34361329e-01,\n",
       "        -4.49386702e-02,  -9.67503843e-01,   2.56842164e+00,\n",
       "         1.84008353e-01,   1.13319038e+00,   6.66577752e-01,\n",
       "        -1.92779694e-01,  -1.42929986e-01,  -4.11531040e-02,\n",
       "        -1.13040551e+00,   2.83113028e-01,  -1.05646024e+00,\n",
       "        -4.53811193e-01,  -7.00538020e-01,   1.64443862e+00,\n",
       "        -1.03046228e+00,   7.13780414e-01,   6.30154358e-01,\n",
       "        -9.19979433e-01,   1.88658804e+00,   1.72465827e+00,\n",
       "         5.78133870e-01,   7.35973837e-01,   2.15039960e+00,\n",
       "         1.20986952e+00,   4.86062205e-01,  -6.37821074e-01,\n",
       "        -3.63436480e-01,   9.82564436e-01,  -1.89003197e+00,\n",
       "        -8.31855428e-01,  -9.56673861e-01,   7.45070620e-01,\n",
       "        -3.84944862e-01,  -2.88708998e+00,  -5.09816966e-01,\n",
       "         8.63923909e-01,  -1.60467480e-01,  -9.13075217e-01,\n",
       "         6.14639999e-01,   8.43132138e-01,  -2.91999401e-01,\n",
       "        -2.54721111e-01,  -2.93158850e-01,  -1.07112850e+00,\n",
       "         7.36794211e-01,   3.16685443e-01,   1.26276465e+00,\n",
       "         1.56907056e-01,  -3.77268112e-01,  -7.88149113e-01,\n",
       "         1.73252613e-01,   1.50499392e-01,   8.60188339e-01,\n",
       "        -1.30529838e+00,   9.62496940e-01,   2.38846530e+00,\n",
       "        -3.40121979e-01,  -1.06127156e+00,   2.30640952e+00,\n",
       "         4.91907106e-01,   1.32736069e-02,  -2.17053848e-01,\n",
       "         8.15832944e-01,  -2.82579389e-01,   9.80507898e-01,\n",
       "        -5.97557727e-01,  -8.61250620e-01,   1.06273681e-01,\n",
       "        -8.53179229e-02,  -2.98204536e-01,  -4.29518019e-01,\n",
       "        -9.54994147e-02,  -5.15996394e-01,   1.75758634e+00,\n",
       "        -1.21520613e+00,  -3.38813034e-01,   1.24773686e-01,\n",
       "         5.10074042e-01,   9.10794664e-02,   4.72229613e-01,\n",
       "         9.92146643e-01,  -4.29384980e-03,   1.41768807e-01,\n",
       "         7.68875795e-01,  -7.99206526e-01,  -1.43358060e+00,\n",
       "         1.73401522e+00,  -3.50475304e-01,  -1.63005749e+00,\n",
       "         2.26478240e+00,  -6.03316441e-01,  -4.06970817e-01,\n",
       "         7.13887624e-01,   1.06542487e+00,   6.23042887e-01,\n",
       "        -1.98183033e+00,  -5.43204684e-01,  -8.59645709e-01,\n",
       "         3.91251858e-01,  -1.87434936e-01,  -5.28323270e-01,\n",
       "         6.82857439e-01,   4.41859050e-01,   7.88566221e-01,\n",
       "        -3.67246614e-01,  -4.19227812e-02,   2.83105456e+00,\n",
       "        -7.03205759e-01,  -3.77050407e-01,   1.05394342e+00,\n",
       "         7.65696239e-01,   1.32206867e+00,   1.03054515e+00,\n",
       "         1.17095497e+00,  -1.08297460e+00,  -2.57606572e-02,\n",
       "        -2.48039958e-01,   5.57942988e-01,   9.54534601e-01,\n",
       "        -1.01021833e+00,   1.19524934e+00,  -8.04334704e-01,\n",
       "        -1.51803377e-01,   2.70609654e-01,  -5.82499893e-02,\n",
       "        -3.35014897e-01,  -7.28108215e-01,   2.16547538e+00,\n",
       "        -8.17089203e-01,  -4.95619007e-02,  -8.73551739e-01,\n",
       "        -1.01573018e-01,  -9.52867045e-01,  -1.51624760e-01,\n",
       "        -2.68182982e-01,  -8.12967725e-01,  -1.51400277e+00,\n",
       "        -4.90308531e-01,  -2.02133551e+00,   1.68572445e+00,\n",
       "        -2.99644067e-01,  -1.82952925e+00,  -1.42498036e+00,\n",
       "        -3.27855669e-01,  -6.60063899e-01,   9.02519941e-01,\n",
       "        -1.91636418e+00,   1.48771683e+00,   2.40440275e+00,\n",
       "         4.76220914e-01,   5.25555859e-01,  -1.65500783e-01,\n",
       "         7.56553427e-01,   5.06110756e-01,   1.91136927e+00,\n",
       "        -1.60920268e+00,   3.01695151e-02,  -4.08378673e-01,\n",
       "         1.28540942e-01,   2.27147638e-01,   3.71069754e-01,\n",
       "        -1.40781128e+00,   4.05979538e-01,  -1.63269435e+00,\n",
       "         1.70027712e+00,   5.93899459e-01,  -2.15370196e+00,\n",
       "        -1.36548931e-01,   9.08761283e-01,  -3.79814099e-01,\n",
       "         1.46819009e+00,  -6.66557618e-01,   1.91204859e+00,\n",
       "         1.19058551e+00,  -1.53325506e+00,   1.76949075e+00,\n",
       "         7.09593125e-01,   1.08585271e+00,  -6.95936930e-01,\n",
       "         3.45537189e-01,   5.40088108e-01,   1.19030383e+00,\n",
       "         2.35597779e-01,  -4.67586892e-01,  -1.75746597e+00,\n",
       "         4.69227377e-01,   8.00590759e-01,   2.64967011e-02,\n",
       "         1.84517635e+00,  -8.21953903e-01,  -2.43038469e-02,\n",
       "        -1.86224761e+00,  -1.43165088e+00,  -1.09542878e+00,\n",
       "         9.44884451e-01,   1.12689532e+00,  -6.10217257e-01,\n",
       "         1.46199913e+00,  -3.55612264e+00,  -2.44076427e-02,\n",
       "        -2.67354626e-01,  -1.10018962e-01,   1.29956901e+00,\n",
       "        -5.14650787e-01,   9.20784582e-01,   1.43166117e+00,\n",
       "         8.08628977e-01,   9.26583935e-01,   8.81564575e-01,\n",
       "         1.68828461e+00,  -9.17163290e-03,   5.55360261e-01,\n",
       "         5.53422199e-01,  -6.69895734e-01,   1.04060941e-01,\n",
       "        -7.50391358e-01,   6.90214076e-01,   1.45328615e+00,\n",
       "        -1.43712868e+00,   2.64880583e-01,  -1.11882848e+00,\n",
       "        -4.00613744e-01,  -7.55661284e-01,   6.80510503e-01,\n",
       "        -9.87665231e-01,   4.08788770e-01,   9.54966836e-01,\n",
       "         9.67653922e-02,   3.83502611e-01,  -1.53306205e-01,\n",
       "         2.44800668e-01,  -1.13750853e+00,  -1.01441376e+00,\n",
       "        -2.01889304e+00,   2.08370951e-01,  -5.90346954e-01,\n",
       "        -9.38134968e-02,  -5.62479829e-01,  -1.55792559e+00,\n",
       "         4.15396551e-01,  -7.15492734e-01,  -2.81907810e+00,\n",
       "        -2.49255901e-01,   1.85661189e+00,   1.27481363e+00,\n",
       "         1.58819416e-01,   2.67078749e-01,  -5.66467787e-01,\n",
       "         4.19993491e-01,   2.56399820e-01,  -1.93652607e-02,\n",
       "         9.30449714e-02,   1.21800077e+00,  -1.28456536e+00,\n",
       "         1.07336311e+00,  -5.69911862e-01,  -6.29033241e-01,\n",
       "        -8.17400168e-01,   3.65157101e-02,   6.85774616e-01,\n",
       "         3.69488062e-02,   2.31513522e+00,   2.94656933e-01,\n",
       "         1.20315288e+00,   1.28663912e+00,   1.00012434e-01,\n",
       "         3.68345891e-02,   5.23608276e-01,  -9.08093820e-01,\n",
       "        -2.38036122e-01,  -1.26364094e+00,   1.10998439e-01,\n",
       "         8.98013530e-01,   1.61993559e+00,   1.23693799e-01,\n",
       "         5.56585268e-01,  -2.53953765e-01,  -1.20475343e+00,\n",
       "         4.14293782e-01,  -2.39599564e-01,  -7.64621281e-01,\n",
       "        -2.32855844e+00,   1.46680041e+00,  -1.14784819e+00,\n",
       "        -3.45353224e-01,  -2.38891035e-01,  -9.50863363e-01,\n",
       "        -8.64073641e-01,   1.02911306e+00,  -3.18344511e-01,\n",
       "         2.79944706e-01,  -1.26980512e+00,   1.33541266e+00,\n",
       "        -7.37928269e-01,   5.78114805e-01,   1.38634206e+00,\n",
       "         1.33696162e+00,  -5.91226811e-01,  -1.44226667e-01,\n",
       "        -7.20322627e-02,   8.00789575e-01,  -5.93328909e-01,\n",
       "        -4.52416351e-01,   1.10893039e+00,  -6.64216895e-01,\n",
       "        -2.08962006e-01,   5.17127497e-01,   3.90312315e-01,\n",
       "         9.85993804e-01,  -1.64499707e+00,   1.54511971e-01,\n",
       "         9.95688712e-01,  -2.42671467e-01,  -8.78395558e-01,\n",
       "         1.54587101e+00,  -1.95979880e-01,   3.81832901e-01,\n",
       "        -2.11112653e-01,  -1.10959030e+00,  -4.11520566e-01,\n",
       "        -3.07720860e-01,   3.87650646e-03,  -1.85824481e+00,\n",
       "         2.31256704e+00,  -3.94310190e-01,  -1.07010494e-01,\n",
       "         1.25318622e+00,   7.85912703e-01,  -4.99644295e-01,\n",
       "        -8.27959208e-02,  -4.41842720e-02,  -6.04289783e-01,\n",
       "         7.60203168e-01,  -1.29575755e-02,  -1.26580228e+00,\n",
       "        -8.55383058e-02,  -1.51919693e+00,   1.46261902e+00,\n",
       "         1.76304902e+00,   4.06649317e-01,  -9.26180560e-01,\n",
       "         7.63701096e-01,  -6.88293824e-01,  -1.05184892e+00,\n",
       "         1.15191222e+00,   4.53179507e-01,   3.38621548e-01,\n",
       "        -1.56985474e-02,   8.17027948e-01,   2.76508554e-01,\n",
       "         3.24809726e+00,  -1.16800964e+00,   2.23286299e+00,\n",
       "        -4.47735719e-01,  -5.79565889e-01,   6.25215647e-01,\n",
       "         5.39136557e-01,  -1.63097113e-01,   8.39859285e-01,\n",
       "         4.46340307e-01,  -1.02198028e+00,   9.43412733e-01,\n",
       "        -7.10402590e-01,  -1.96791926e+00,  -3.43487751e-01,\n",
       "        -4.06565159e+00,   2.61082723e-01,   7.11957957e-02,\n",
       "         1.51752972e-01,   4.95990164e-01,   7.05361608e-01,\n",
       "        -1.23788496e-01,  -1.01951061e+00,  -4.59705206e-01,\n",
       "         7.92619477e-01,  -2.39079335e-01,   8.52710644e-01,\n",
       "        -1.04091471e-01,   3.22864470e-01,  -1.60418185e+00,\n",
       "        -9.83299676e-01,  -1.37219844e+00,   3.88285131e-01,\n",
       "        -8.39653580e-01,   7.74907353e-01,   2.81884217e-01,\n",
       "        -3.66800666e-03,   7.42036776e-01,   4.31227068e-01,\n",
       "        -9.41182618e-01,   1.19087008e+00,   2.23172119e-01,\n",
       "        -9.61925701e-01,   8.86219926e-01,   3.78110954e-01,\n",
       "         1.04498907e+00,   4.95395762e-01,  -4.17457857e-01,\n",
       "         4.64075856e-01,  -1.23037500e+00,  -2.13843287e-01,\n",
       "         2.28549930e-01,   2.55456410e+00,   1.92045415e+00,\n",
       "        -1.28031198e+00,   3.06330202e-01,   2.09781360e-01,\n",
       "        -1.47664505e-01,   2.19940062e+00,   1.22724215e+00,\n",
       "         5.94588345e-03,  -1.09257012e+00,  -9.81284936e-01,\n",
       "        -5.03868040e-01,   6.31123770e-01,  -9.39598596e-01,\n",
       "        -5.66860860e-02,  -5.52678589e-01,   1.40488267e-01,\n",
       "         6.69037584e-01,   5.91304025e-01,  -1.81096966e+00,\n",
       "         1.61856349e+00,   1.76969115e+00,  -4.41208137e-01,\n",
       "        -1.46600750e+00,  -9.00327516e-01,   5.74332615e-01,\n",
       "        -4.66263701e-01,   1.33454048e+00,   1.11106020e+00,\n",
       "         8.59168866e-01,   5.85935372e-01,  -1.41242195e-01,\n",
       "        -8.69167873e-01,   1.74566172e+00,  -2.47138112e-01,\n",
       "         4.96741397e-01,   1.18192705e+00,   7.35159512e-01,\n",
       "         1.07870785e+00,   1.60273470e-01,  -1.32305858e+00,\n",
       "        -8.56222859e-01,   9.72763370e-01,  -5.62908566e-01,\n",
       "         5.78309784e-01,  -1.77554053e-01,   1.59151944e+00,\n",
       "         6.66579495e-01,  -7.13052302e-01,   1.06432551e+00,\n",
       "         4.54124782e-01,   1.37626640e+00,  -9.43765447e-01,\n",
       "        -2.31690105e+00,  -3.35103318e-01,  -2.53717037e-01,\n",
       "         9.53914328e-01,   5.16776986e-02,   1.34425615e+00,\n",
       "        -1.13312154e+00,   1.09102366e+00,   3.30240173e-01,\n",
       "        -1.16580621e+00,  -1.45242147e-02,   6.27329401e-01,\n",
       "        -1.04697155e+00,  -1.10690106e+00,  -1.08375979e-01,\n",
       "        -8.79697560e-01,   5.18753048e-01,  -3.62475057e+00,\n",
       "         2.17032848e-01,  -1.65482792e+00,  -1.24891608e+00,\n",
       "        -3.41986725e-01,  -2.23376471e+00,   9.96865527e-02,\n",
       "        -2.15726056e-01,   9.45920551e-02,   6.63841744e-01,\n",
       "         1.05650469e+00,   7.81768948e-02,   6.18552354e-02,\n",
       "        -1.30322901e+00,  -8.27147308e-01,  -5.54410466e-01,\n",
       "         4.02417804e-01,   1.85480531e-01,   1.51292195e+00,\n",
       "        -2.04988397e+00,  -1.82312066e-01,   1.46119023e+00,\n",
       "        -1.30213581e+00,  -1.02409001e+00,  -6.33548430e-01,\n",
       "         3.80407144e-01,  -2.47016990e-01,   2.93121613e-02,\n",
       "         7.69792762e-01,   1.83671286e+00,  -9.52798867e-01,\n",
       "        -8.77756925e-01,  -1.35205757e-01,   1.42108874e-01,\n",
       "         3.86188806e-02,  -1.37530904e-01,  -1.74578201e+00,\n",
       "         1.19812617e+00,  -1.54382669e+00,   6.76299099e-01,\n",
       "        -1.51158847e-01,  -2.94525922e-01,   1.30196608e+00,\n",
       "         1.63218672e+00,  -2.09730229e+00,  -4.24426719e-01,\n",
       "         1.64269084e+00,  -2.22411058e-01,   1.38395564e+00,\n",
       "        -3.64061804e-01,  -1.53008460e+00,   1.04360509e+00,\n",
       "         1.91371860e-01,   5.92831564e-01,  -8.44030080e-01,\n",
       "        -3.25800308e-01,   1.19399465e+00,   4.70955400e-01,\n",
       "        -9.85742539e-01,   2.97111413e-01,   3.78191636e-01,\n",
       "        -1.46142392e-01,  -1.56126027e+00,  -9.29830504e-01,\n",
       "        -2.20412745e-01,  -1.13967367e-02,  -1.93158989e+00,\n",
       "         1.75733455e-01,  -1.00301140e+00,   9.23544778e-01,\n",
       "         1.92026186e+00,  -1.66396084e+00,   1.18508394e+00,\n",
       "         2.05423740e+00,   4.28122376e-01,  -2.40283564e+00,\n",
       "         4.46898793e-01,  -9.04799037e-01,  -1.13353259e+00,\n",
       "         1.03944476e+00,   5.69597853e-01,  -1.24200060e+00,\n",
       "         1.33111342e+00,  -8.06036242e-01,   1.54779111e-01,\n",
       "         1.05618587e+00,  -6.45301807e-01,   4.09492408e-02,\n",
       "         4.75962949e-01,  -8.06067313e-01,  -9.25937016e-02,\n",
       "        -1.02268980e+00,  -1.62077366e+00,   2.04742763e+00,\n",
       "         1.43143210e+00,  -2.16159528e-01,  -4.58740886e-01,\n",
       "         5.45163705e-01,  -2.50989827e-01,  -5.57438673e-01,\n",
       "         1.75654622e+00,   1.38794589e+00,  -1.28458683e-01,\n",
       "         7.04017801e-02,   3.94207495e-01,  -9.96939110e-01,\n",
       "        -2.85869612e+00,  -5.27135879e-01,  -1.52725755e-01,\n",
       "         2.28153714e+00,   1.40108985e+00,  -1.41140804e+00,\n",
       "         3.73574986e-01,  -6.80336432e-01,   8.79304248e-01,\n",
       "        -6.20843264e-01,  -5.98895594e-01,  -1.28058403e+00,\n",
       "         9.13079359e-01,  -1.83228750e+00,   1.60134639e+00,\n",
       "        -1.10775038e-01,   4.47865908e-01,  -3.85862510e-01,\n",
       "         1.58719056e+00,  -1.43432129e+00,  -1.13684913e+00,\n",
       "        -1.24950835e-01,   4.66145480e-01,   9.06059785e-01,\n",
       "        -4.85431711e-01,  -6.11326810e-01,   1.91735195e+00,\n",
       "         5.06776348e-01,  -5.98732560e-01,   5.90936975e-01,\n",
       "         2.37883607e+00,   4.06399019e-01,   7.62649842e-01,\n",
       "         5.33004948e-01,  -6.00166983e-01,  -5.38316705e-01,\n",
       "        -6.14697272e-01,   9.13223981e-01,  -1.61871266e+00,\n",
       "        -1.63489787e+00,   3.98607198e-01,   6.56375265e-02,\n",
       "         4.55516567e-01,   8.98874015e-01,  -4.57624002e-01,\n",
       "         4.96128418e-01,   6.91528523e-01,   1.11426279e+00,\n",
       "         8.26069669e-01,   1.52582176e+00,  -9.31357493e-01,\n",
       "         4.04908109e-01,  -1.68562346e+00,  -1.27822902e-01,\n",
       "         7.23941024e-02,   6.37123918e-01,   1.85347220e+00,\n",
       "        -4.85415569e-01,   7.87498157e-01,   7.15099087e-01,\n",
       "        -7.06984508e-01,  -7.06361475e-01,  -1.17813328e+00,\n",
       "         2.09573699e-02,  -5.87554924e-03,   1.45047704e+00,\n",
       "         2.80599918e-02,   2.00335209e-01,  -1.88709353e+00,\n",
       "        -3.42687960e-01,  -7.98907744e-01,   4.92911558e-01,\n",
       "         2.55813131e-02,  -1.22214944e+00,   1.86386332e+00,\n",
       "         7.26614003e-01,  -3.28955212e-01,   1.90601114e-01,\n",
       "         7.31228593e-01,  -1.40037274e+00,   1.91786294e+00,\n",
       "         2.46652407e-01,  -1.62005981e+00,  -2.11428910e-02,\n",
       "         4.53265009e-01,  -5.09095265e-01,   1.59967235e+00,\n",
       "        -2.54373891e+00,  -6.07338360e-01,  -9.88610484e-01,\n",
       "         2.09964571e-01,  -3.95514449e-01,   1.11164247e+00,\n",
       "        -1.87920693e-01,   2.13035085e+00,   7.89761379e-01,\n",
       "         7.01818175e-01,   1.11366499e+00,  -5.36145337e-01,\n",
       "        -2.64288069e-01,   2.11475445e-01,  -1.19639363e+00,\n",
       "        -1.01819227e+00,  -1.57868967e+00,   9.67806761e-01,\n",
       "         7.18201237e-01,  -8.62349575e-01,  -1.01539937e+00,\n",
       "         1.44272100e+00,  -5.90203514e-01,   6.12967232e-01,\n",
       "        -9.82490857e-01,  -1.31540066e+00,   3.78585874e-01,\n",
       "         1.27776947e+00,  -1.41124505e-01,   6.75928164e-01,\n",
       "        -1.36699676e+00,   1.00016666e+00,   2.71924832e-01,\n",
       "         7.19796909e-01,   4.96027808e-01,   3.16582210e-01,\n",
       "         1.03555391e+00,  -1.42300319e+00,   4.79436302e-01,\n",
       "        -2.98064611e-01,  -8.98330755e-01,   4.65146213e-01,\n",
       "         6.60110001e-02,   1.13061877e+00,   6.29425293e-01,\n",
       "        -4.78298776e-01,   9.54547187e-01,  -6.82546703e-01,\n",
       "         7.26867308e-01,  -1.32564903e+00,   3.33512129e-03,\n",
       "        -1.31783601e+00,  -9.38966457e-01,   1.71861787e+00,\n",
       "         1.93015591e+00,  -1.54293534e-01,  -4.83775784e-01,\n",
       "        -1.36852998e-01,   7.96826890e-01,   3.07857838e-01,\n",
       "        -8.25845450e-01,  -2.03452676e+00,   7.87207097e-01,\n",
       "         1.94982189e-01,   1.37751357e+00,  -3.34169132e-02,\n",
       "         3.11390177e-01,  -7.73896867e-01,  -6.13720756e-01,\n",
       "        -1.09355654e+00,  -2.31411425e-01,   4.07185323e-01,\n",
       "        -1.18565997e+00,  -8.29988593e-01,   3.85487321e-01,\n",
       "         4.15375478e-02,   6.83597733e-01,   1.68288960e+00,\n",
       "         2.34917015e-02,  -1.07867654e+00,  -7.55907583e-01,\n",
       "         1.04928714e+00,   4.29116638e-01,  -9.28699264e-01,\n",
       "        -1.16135876e+00,  -4.45268317e-01,  -9.45279704e-01,\n",
       "         6.57949117e-01,   8.02158891e-01,  -3.73380071e-01,\n",
       "        -2.59800168e+00,   7.12984021e-01,  -1.80767109e+00,\n",
       "         1.05850408e+00,   3.19809601e-01,  -9.40938865e-01,\n",
       "        -3.16957569e-01,   1.45009273e+00,  -3.14159008e-01,\n",
       "        -6.30495564e-01,  -4.59310523e-01,  -4.32460647e-02,\n",
       "        -1.10889534e+00,  -2.01356185e-01,   1.36003653e-01,\n",
       "        -3.67247311e-01,  -1.46863250e+00,   8.55247237e-01,\n",
       "        -6.14809630e-01,  -1.44004760e+00,   4.81982780e-01,\n",
       "         3.39587747e-01,  -4.59788222e-01,   1.34495966e-01,\n",
       "         1.87146632e+00,  -5.63194317e-01,   1.84242841e-01,\n",
       "         2.19205167e+00,  -1.59034039e+00,   8.35830987e-02,\n",
       "         4.49504973e-01,  -7.73550034e-01,  -1.67253957e+00,\n",
       "        -7.74862777e-01,   2.17464942e+00,  -7.70961577e-01,\n",
       "         1.46713934e+00])"
      ]
     },
     "execution_count": 8,
     "metadata": {},
     "output_type": "execute_result"
    }
   ],
   "source": [
    "rngS = np.random.randn(1000)\n",
    "rngS"
   ]
  },
  {
   "cell_type": "code",
   "execution_count": 14,
   "metadata": {
    "collapsed": false
   },
   "outputs": [
    {
     "data": {
      "text/plain": [
       "<mtrand.RandomState at 0x1d78fd120d8>"
      ]
     },
     "execution_count": 14,
     "metadata": {},
     "output_type": "execute_result"
    }
   ],
   "source": [
    "np.random.RandomState(10)"
   ]
  },
  {
   "cell_type": "code",
   "execution_count": 4,
   "metadata": {
    "collapsed": false
   },
   "outputs": [
    {
     "ename": "NameError",
     "evalue": "name 'rng' is not defined",
     "output_type": "error",
     "traceback": [
      "\u001b[1;31m---------------------------------------------------------------------------\u001b[0m",
      "\u001b[1;31mNameError\u001b[0m                                 Traceback (most recent call last)",
      "\u001b[1;32m<ipython-input-4-e7ec774c1b4b>\u001b[0m in \u001b[0;36m<module>\u001b[1;34m()\u001b[0m\n\u001b[1;32m----> 1\u001b[1;33m \u001b[0mplt\u001b[0m\u001b[1;33m.\u001b[0m\u001b[0mhist\u001b[0m\u001b[1;33m(\u001b[0m\u001b[0mrng\u001b[0m\u001b[1;33m,\u001b[0m \u001b[0mbins\u001b[0m\u001b[1;33m=\u001b[0m\u001b[1;34m'auto'\u001b[0m\u001b[1;33m)\u001b[0m\u001b[1;33m\u001b[0m\u001b[0m\n\u001b[0m",
      "\u001b[1;31mNameError\u001b[0m: name 'rng' is not defined"
     ]
    }
   ],
   "source": [
    "plt.hist(rng, bins='auto')"
   ]
  },
  {
   "cell_type": "code",
   "execution_count": 31,
   "metadata": {
    "collapsed": false
   },
   "outputs": [
    {
     "data": {
      "text/plain": [
       "(array([ 10173.,   9963.,  10049.,  10048.,  10033.,   9951.,   9990.,\n",
       "          9864.,   9949.,   9980.]),\n",
       " array([  2.32561379e-05,   1.00020741e-01,   2.00018225e-01,\n",
       "          3.00015710e-01,   4.00013195e-01,   5.00010679e-01,\n",
       "          6.00008164e-01,   7.00005648e-01,   8.00003133e-01,\n",
       "          9.00000617e-01,   9.99998102e-01]),\n",
       " <a list of 10 Patch objects>)"
      ]
     },
     "execution_count": 31,
     "metadata": {},
     "output_type": "execute_result"
    },
    {
     "data": {
      "image/png": "[encoded data removed]",
      "text/plain": [
       "<matplotlib.figure.Figure at 0x1d7909d4908>"
      ]
     },
     "metadata": {},
     "output_type": "display_data"
    }
   ],
   "source": [
    "plt.hist(rng)"
   ]
  },
  {
   "cell_type": "code",
   "execution_count": 9,
   "metadata": {
    "collapsed": false
   },
   "outputs": [
    {
     "data": {
      "text/plain": [
       "(array([   1.,    2.,    0.,    0.,    3.,    3.,    6.,   12.,   21.,\n",
       "          34.,   50.,   75.,   84.,   89.,  108.,  100.,  107.,   91.,\n",
       "          66.,   49.,   37.,   27.,   13.,   13.,    7.,    1.,    1.]),\n",
       " array([ -4.06565159e+00,  -3.79477201e+00,  -3.52389242e+00,\n",
       "         -3.25301283e+00,  -2.98213324e+00,  -2.71125366e+00,\n",
       "         -2.44037407e+00,  -2.16949448e+00,  -1.89861490e+00,\n",
       "         -1.62773531e+00,  -1.35685572e+00,  -1.08597613e+00,\n",
       "         -8.15096547e-01,  -5.44216960e-01,  -2.73337373e-01,\n",
       "         -2.45778536e-03,   2.68421802e-01,   5.39301389e-01,\n",
       "          8.10180976e-01,   1.08106056e+00,   1.35194015e+00,\n",
       "          1.62281974e+00,   1.89369933e+00,   2.16457891e+00,\n",
       "          2.43545850e+00,   2.70633809e+00,   2.97721767e+00,\n",
       "          3.24809726e+00]),\n",
       " <a list of 27 Patch objects>)"
      ]
     },
     "execution_count": 9,
     "metadata": {},
     "output_type": "execute_result"
    },
    {
     "data": {
      "image/png": "[encoded data removed]",
      "text/plain": [
       "<matplotlib.figure.Figure at 0x1ef913eb4a8>"
      ]
     },
     "metadata": {},
     "output_type": "display_data"
    }
   ],
   "source": [
    "fig = plt.figure(figsize  = (12,6))\n",
    "plt.hist(rngS, bins='auto')"
   ]
  },
  {
   "cell_type": "code",
   "execution_count": 12,
   "metadata": {
    "collapsed": false
   },
   "outputs": [
    {
     "data": {
      "text/plain": [
       "<matplotlib.figure.Figure at 0x1ef90a23dd8>"
      ]
     },
     "metadata": {},
     "output_type": "display_data"
    }
   ],
   "source": [
    "plt.savefig('plots\\hist.pdf')\n",
    "#plt.savefig('hist_test.pdf')"
   ]
  },
  {
   "cell_type": "code",
   "execution_count": 35,
   "metadata": {
    "collapsed": false
   },
   "outputs": [
    {
     "data": {
      "text/plain": [
       "333"
      ]
     },
     "execution_count": 35,
     "metadata": {},
     "output_type": "execute_result"
    }
   ],
   "source": [
    "1000//3"
   ]
  },
  {
   "cell_type": "code",
   "execution_count": 34,
   "metadata": {
    "collapsed": false
   },
   "outputs": [
    {
     "name": "stderr",
     "output_type": "stream",
     "text": [
      "C:\\Anaconda3\\lib\\site-packages\\ipykernel\\__main__.py:1: VisibleDeprecationWarning: using a non-integer number instead of an integer will result in an error in the future\n",
      "  if __name__ == '__main__':\n"
     ]
    },
    {
     "data": {
      "text/plain": [
       "array([ 0.,  0.,  0.])"
      ]
     },
     "execution_count": 34,
     "metadata": {},
     "output_type": "execute_result"
    }
   ],
   "source": [
    "np.zeros(10/3)"
   ]
  },
  {
   "cell_type": "code",
   "execution_count": 60,
   "metadata": {
    "collapsed": false
   },
   "outputs": [
    {
     "data": {
      "text/plain": [
       "array([ 0.25])"
      ]
     },
     "execution_count": 60,
     "metadata": {},
     "output_type": "execute_result"
    }
   ],
   "source": [
    "np.arange(r1, r0)#, dtype=int)"
   ]
  },
  {
   "cell_type": "code",
   "execution_count": 42,
   "metadata": {
    "collapsed": false
   },
   "outputs": [
    {
     "data": {
      "text/plain": [
       "array([ 0.,  1.,  2.,  3.,  4.,  5.,  6.,  7.,  8.,  9.])"
      ]
     },
     "execution_count": 42,
     "metadata": {},
     "output_type": "execute_result"
    }
   ],
   "source": [
    "np.linspace(0,9, 10)"
   ]
  },
  {
   "cell_type": "code",
   "execution_count": 57,
   "metadata": {
    "collapsed": false
   },
   "outputs": [
    {
     "data": {
      "text/plain": [
       "1.0"
      ]
     },
     "execution_count": 57,
     "metadata": {},
     "output_type": "execute_result"
    }
   ],
   "source": [
    "r0 = 1/2\n",
    "r1 = 1/4\n",
    "r2 = 1/8\n",
    "r3 = 1/8\n",
    "r0+r1+r2+r3"
   ]
  },
  {
   "cell_type": "code",
   "execution_count": 59,
   "metadata": {
    "collapsed": false
   },
   "outputs": [
    {
     "data": {
      "text/plain": [
       "500"
      ]
     },
     "execution_count": 59,
     "metadata": {},
     "output_type": "execute_result"
    }
   ],
   "source": [
    "int(1001*r0)"
   ]
  },
  {
   "cell_type": "code",
   "execution_count": 64,
   "metadata": {
    "collapsed": false
   },
   "outputs": [
    {
     "data": {
      "text/plain": [
       "array([0, 1, 2, 3])"
      ]
     },
     "execution_count": 64,
     "metadata": {},
     "output_type": "execute_result"
    }
   ],
   "source": [
    "np.arange(0, 4)"
   ]
  },
  {
   "cell_type": "code",
   "execution_count": 65,
   "metadata": {
    "collapsed": false
   },
   "outputs": [
    {
     "data": {
      "text/plain": [
       "array([4, 5, 6, 7, 8, 9])"
      ]
     },
     "execution_count": 65,
     "metadata": {},
     "output_type": "execute_result"
    }
   ],
   "source": [
    "np.arange(4, 10)"
   ]
  },
  {
   "cell_type": "code",
   "execution_count": 66,
   "metadata": {
    "collapsed": false
   },
   "outputs": [
    {
     "data": {
      "text/plain": [
       "range(0, 4)"
      ]
     },
     "execution_count": 66,
     "metadata": {},
     "output_type": "execute_result"
    }
   ],
   "source": [
    "range(4)"
   ]
  },
  {
   "cell_type": "code",
   "execution_count": 67,
   "metadata": {
    "collapsed": true
   },
   "outputs": [],
   "source": [
    "distr = [0, 400, 700, 900, 1000]"
   ]
  },
  {
   "cell_type": "code",
   "execution_count": 71,
   "metadata": {
    "collapsed": false
   },
   "outputs": [
    {
     "data": {
      "text/plain": [
       "[0, 400]"
      ]
     },
     "execution_count": 71,
     "metadata": {},
     "output_type": "execute_result"
    }
   ],
   "source": [
    "distr[:2]"
   ]
  },
  {
   "cell_type": "code",
   "execution_count": 69,
   "metadata": {
    "collapsed": false
   },
   "outputs": [
    {
     "ename": "TypeError",
     "evalue": "'list' object is not callable",
     "output_type": "error",
     "traceback": [
      "\u001b[1;31m---------------------------------------------------------------------------\u001b[0m",
      "\u001b[1;31mTypeError\u001b[0m                                 Traceback (most recent call last)",
      "\u001b[1;32m<ipython-input-69-3fb36cf7a47c>\u001b[0m in \u001b[0;36m<module>\u001b[1;34m()\u001b[0m\n\u001b[1;32m----> 1\u001b[1;33m \u001b[0mdistr\u001b[0m\u001b[1;33m(\u001b[0m\u001b[1;36m0\u001b[0m\u001b[1;33m)\u001b[0m\u001b[1;33m\u001b[0m\u001b[0m\n\u001b[0m",
      "\u001b[1;31mTypeError\u001b[0m: 'list' object is not callable"
     ]
    }
   ],
   "source": [
    "distr(0)"
   ]
  },
  {
   "cell_type": "code",
   "execution_count": 72,
   "metadata": {
    "collapsed": false
   },
   "outputs": [
    {
     "ename": "TypeError",
     "evalue": "unsupported operand type(s) for -: 'list' and 'int'",
     "output_type": "error",
     "traceback": [
      "\u001b[1;31m---------------------------------------------------------------------------\u001b[0m",
      "\u001b[1;31mTypeError\u001b[0m                                 Traceback (most recent call last)",
      "\u001b[1;32m<ipython-input-72-b1eeb03088bf>\u001b[0m in \u001b[0;36m<module>\u001b[1;34m()\u001b[0m\n\u001b[1;32m----> 1\u001b[1;33m \u001b[0mnp\u001b[0m\u001b[1;33m.\u001b[0m\u001b[0marange\u001b[0m\u001b[1;33m(\u001b[0m\u001b[0mdistr\u001b[0m\u001b[1;33m[\u001b[0m\u001b[1;33m:\u001b[0m\u001b[1;36m2\u001b[0m\u001b[1;33m]\u001b[0m\u001b[1;33m)\u001b[0m\u001b[1;33m\u001b[0m\u001b[0m\n\u001b[0m",
      "\u001b[1;31mTypeError\u001b[0m: unsupported operand type(s) for -: 'list' and 'int'"
     ]
    }
   ],
   "source": [
    "np.arange(distr[:2])"
   ]
  },
  {
   "cell_type": "code",
   "execution_count": 5,
   "metadata": {
    "collapsed": true
   },
   "outputs": [],
   "source": [
    "a = [None]*4*3"
   ]
  },
  {
   "cell_type": "code",
   "execution_count": 6,
   "metadata": {
    "collapsed": false
   },
   "outputs": [
    {
     "data": {
      "text/plain": [
       "[None, None, None, None, None, None, None, None, None, None, None, None]"
      ]
     },
     "execution_count": 6,
     "metadata": {},
     "output_type": "execute_result"
    }
   ],
   "source": [
    "a"
   ]
  },
  {
   "cell_type": "code",
   "execution_count": 7,
   "metadata": {
    "collapsed": false
   },
   "outputs": [
    {
     "data": {
      "text/plain": [
       "8"
      ]
     },
     "execution_count": 7,
     "metadata": {},
     "output_type": "execute_result"
    }
   ],
   "source": [
    "n = 1000\n",
    "np.zeros(n, dtype = np.float64).itemsize"
   ]
  },
  {
   "cell_type": "code",
   "execution_count": 12,
   "metadata": {
    "collapsed": false
   },
   "outputs": [
    {
     "data": {
      "text/plain": [
       "4000"
      ]
     },
     "execution_count": 12,
     "metadata": {},
     "output_type": "execute_result"
    }
   ],
   "source": [
    "np.zeros(n, dtype = int).nbytes"
   ]
  },
  {
   "cell_type": "code",
   "execution_count": 17,
   "metadata": {
    "collapsed": true
   },
   "outputs": [],
   "source": [
    "a = [0, 1]"
   ]
  },
  {
   "cell_type": "code",
   "execution_count": 18,
   "metadata": {
    "collapsed": false
   },
   "outputs": [
    {
     "ename": "AttributeError",
     "evalue": "'list' object has no attribute 'size'",
     "output_type": "error",
     "traceback": [
      "\u001b[1;31m---------------------------------------------------------------------------\u001b[0m",
      "\u001b[1;31mAttributeError\u001b[0m                            Traceback (most recent call last)",
      "\u001b[1;32m<ipython-input-18-d17d4ba07aba>\u001b[0m in \u001b[0;36m<module>\u001b[1;34m()\u001b[0m\n\u001b[1;32m----> 1\u001b[1;33m \u001b[0ma\u001b[0m\u001b[1;33m.\u001b[0m\u001b[0msize\u001b[0m\u001b[1;33m(\u001b[0m\u001b[1;33m)\u001b[0m\u001b[1;33m\u001b[0m\u001b[0m\n\u001b[0m",
      "\u001b[1;31mAttributeError\u001b[0m: 'list' object has no attribute 'size'"
     ]
    }
   ],
   "source": [
    "a.size()"
   ]
  },
  {
   "cell_type": "code",
   "execution_count": 20,
   "metadata": {
    "collapsed": false
   },
   "outputs": [
    {
     "data": {
      "text/plain": [
       "2"
      ]
     },
     "execution_count": 20,
     "metadata": {},
     "output_type": "execute_result"
    }
   ],
   "source": [
    "np.size(a)"
   ]
  },
  {
   "cell_type": "code",
   "execution_count": 21,
   "metadata": {
    "collapsed": false
   },
   "outputs": [
    {
     "data": {
      "text/plain": [
       "range(0, 8, 2)"
      ]
     },
     "execution_count": 21,
     "metadata": {},
     "output_type": "execute_result"
    }
   ],
   "source": [
    "range(0,8,2)"
   ]
  },
  {
   "cell_type": "code",
   "execution_count": 27,
   "metadata": {
    "collapsed": false
   },
   "outputs": [
    {
     "data": {
      "text/plain": [
       "range(0, 8, 2)"
      ]
     },
     "execution_count": 27,
     "metadata": {},
     "output_type": "execute_result"
    }
   ],
   "source": [
    "a =range(0,,2)\n",
    "a"
   ]
  },
  {
   "cell_type": "code",
   "execution_count": 28,
   "metadata": {
    "collapsed": false
   },
   "outputs": [
    {
     "name": "stdout",
     "output_type": "stream",
     "text": [
      "0\n",
      "2\n",
      "4\n",
      "6\n"
     ]
    }
   ],
   "source": [
    "for i in a:\n",
    "    print(i)"
   ]
  },
  {
   "cell_type": "code",
   "execution_count": null,
   "metadata": {
    "collapsed": true
   },
   "outputs": [],
   "source": []
  }
 ],
 "metadata": {
  "anaconda-cloud": {},
  "kernelspec": {
   "display_name": "Python [Root]",
   "language": "python",
   "name": "Python [Root]"
  },
  "language_info": {
   "codemirror_mode": {
    "name": "ipython",
    "version": 3
   },
   "file_extension": ".py",
   "mimetype": "text/x-python",
   "name": "python",
   "nbconvert_exporter": "python",
   "pygments_lexer": "ipython3",
   "version": "3.5.2"
  }
 },
 "nbformat": 4,
 "nbformat_minor": 0
}

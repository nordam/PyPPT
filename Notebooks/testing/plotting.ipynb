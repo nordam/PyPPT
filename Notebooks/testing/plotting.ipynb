{
 "cells": [
  {
   "cell_type": "code",
   "execution_count": 22,
   "metadata": {
    "collapsed": true
   },
   "outputs": [],
   "source": [
    "%matplotlib inline\n",
    "import numpy as np\n",
    "import os\n",
    "\n",
    "import matplotlib.pyplot as plt\n",
    "plt.style.use('bmh')"
   ]
  },
  {
   "cell_type": "code",
   "execution_count": 23,
   "metadata": {
    "collapsed": false
   },
   "outputs": [
    {
     "name": "stdout",
     "output_type": "stream",
     "text": [
      "['seaborn-whitegrid', 'seaborn-pastel', 'seaborn-colorblind', 'seaborn-muted', 'seaborn-darkgrid', 'seaborn-dark', 'classic', 'seaborn-talk', 'seaborn-poster', 'ggplot', 'seaborn-bright', 'seaborn-ticks', 'fivethirtyeight', 'seaborn-deep', 'seaborn-white', 'bmh', 'dark_background', 'seaborn-dark-palette', 'grayscale', 'seaborn-notebook', 'seaborn-paper']\n"
     ]
    }
   ],
   "source": [
    " print(plt.style.available)"
   ]
  },
  {
   "cell_type": "code",
   "execution_count": 24,
   "metadata": {
    "collapsed": false
   },
   "outputs": [],
   "source": [
    "import seaborn as sns\n",
    "#sns.set(style='ticks', palette='Set2')\n",
    "#sns.despine()"
   ]
  },
  {
   "cell_type": "code",
   "execution_count": 25,
   "metadata": {
    "collapsed": false
   },
   "outputs": [
    {
     "data": {
      "text/plain": [
       "array([  1.60456713e-01,   2.23265650e-02,   2.18322425e-01,\n",
       "         2.61355104e-02,   4.60256185e-01,   3.57331643e-01,\n",
       "         7.07272458e-01,   3.94314559e-01,   3.44552777e-01,\n",
       "         6.30927639e-02,   5.16259536e-01,   2.13935817e-01,\n",
       "         8.45887458e-01,   5.06109982e-02,   4.02840002e-01,\n",
       "         1.72345408e-01,   6.61041635e-01,   8.84881607e-01,\n",
       "         4.54023073e-02,   7.09940354e-01,   3.17208195e-01,\n",
       "         6.05009735e-01,   8.39292537e-01,   7.03760162e-01,\n",
       "         3.41504875e-01,   9.33111811e-01,   1.53885504e-01,\n",
       "         9.03052353e-01,   6.54834839e-02,   1.51960481e-01,\n",
       "         2.23331314e-01,   5.97310985e-01,   6.18859677e-01,\n",
       "         8.05638835e-01,   3.80813095e-01,   2.88793524e-01,\n",
       "         8.74407404e-01,   3.23926871e-01,   3.91083438e-01,\n",
       "         5.67871913e-01,   1.55876465e-01,   8.36011081e-01,\n",
       "         5.25914771e-01,   6.88791592e-01,   2.12215451e-01,\n",
       "         2.88443134e-02,   3.15424645e-01,   9.69834499e-01,\n",
       "         7.24261878e-03,   9.80634845e-01,   8.95592780e-01,\n",
       "         1.81675364e-01,   4.84504349e-01,   4.62112738e-01,\n",
       "         9.84027742e-01,   5.29682666e-01,   9.35602866e-02,\n",
       "         4.80336446e-02,   8.01266817e-01,   8.13666441e-01,\n",
       "         2.25858313e-01,   1.17379339e-01,   6.34639389e-01,\n",
       "         9.22373444e-01,   2.62681178e-01,   2.85576311e-01,\n",
       "         6.67751522e-01,   4.15817158e-01,   6.70879141e-01,\n",
       "         9.89924559e-01,   3.47375612e-01,   9.93628174e-01,\n",
       "         1.01213980e-01,   3.27783700e-01,   1.74313292e-01,\n",
       "         9.47538020e-01,   9.43767248e-01,   2.08491213e-01,\n",
       "         8.60271561e-01,   4.41517534e-01,   1.81986171e-01,\n",
       "         3.56407353e-01,   6.21959825e-01,   8.05142574e-01,\n",
       "         5.92364595e-01,   5.04856532e-01,   1.61134106e-01,\n",
       "         8.19002163e-02,   9.39732226e-01,   2.54466692e-01,\n",
       "         7.69551113e-01,   7.18194124e-01,   1.30537150e-01,\n",
       "         1.09672660e-01,   6.91056177e-01,   5.61735238e-01,\n",
       "         2.37086498e-01,   4.83750743e-01,   2.75548498e-01,\n",
       "         4.83973101e-01,   5.67798140e-02,   1.95713290e-01,\n",
       "         8.11325815e-01,   5.25325253e-01,   4.54380079e-01,\n",
       "         5.03519880e-01,   5.56937460e-01,   4.18600055e-01,\n",
       "         2.23145672e-02,   8.25320284e-01,   8.71010212e-01,\n",
       "         5.14541199e-01,   3.92282153e-01,   7.12070456e-01,\n",
       "         5.72939222e-01,   4.71262357e-01,   5.73086835e-02,\n",
       "         8.81133220e-01,   3.96815757e-01,   9.13693829e-02,\n",
       "         3.43977264e-01,   1.27534414e-01,   3.99573503e-01,\n",
       "         3.21585153e-01,   5.16516859e-01,   3.31651878e-02,\n",
       "         7.04472100e-01,   8.60350894e-02,   4.21940999e-01,\n",
       "         4.98450197e-01,   3.44912404e-01,   4.63396353e-01,\n",
       "         1.38473705e-01,   3.45119828e-01,   8.42033932e-01,\n",
       "         2.70539887e-02,   4.70198442e-02,   7.53996746e-01,\n",
       "         9.03251355e-01,   9.86861246e-01,   2.17340898e-01,\n",
       "         9.29837159e-01,   8.61546232e-01,   7.98316064e-01,\n",
       "         5.32652673e-01,   7.40016890e-01,   4.02806370e-01,\n",
       "         5.82190823e-01,   1.31509750e-01,   5.13860303e-01,\n",
       "         8.29820133e-01,   1.52674436e-01,   2.92646627e-01,\n",
       "         2.42881165e-01,   9.09045171e-01,   2.21071225e-01,\n",
       "         4.94079924e-01,   7.21179883e-01,   2.38331226e-01,\n",
       "         4.39501498e-01,   7.48741723e-01,   4.72727354e-01,\n",
       "         1.74448566e-02,   5.68396637e-02,   5.67817321e-01,\n",
       "         7.88858993e-02,   2.37927009e-01,   1.52318370e-03,\n",
       "         5.60898593e-01,   2.93204354e-01,   7.63331098e-01,\n",
       "         6.58242009e-01,   4.07169514e-01,   9.80436758e-02,\n",
       "         5.63559097e-01,   2.86359717e-01,   4.89173175e-01,\n",
       "         1.90469283e-01,   7.72152817e-01,   2.34782163e-01,\n",
       "         8.05933382e-02,   2.47165505e-01,   5.11028533e-01,\n",
       "         9.81831095e-01,   6.88658180e-02,   5.23809241e-01,\n",
       "         9.02380026e-01,   1.04792102e-01,   2.90399689e-01,\n",
       "         3.28154229e-01,   5.09695156e-01,   9.03548627e-01,\n",
       "         8.54254938e-01,   9.32239274e-01,   9.19293660e-01,\n",
       "         8.15996943e-01,   6.04824039e-01,   6.62113810e-01,\n",
       "         1.06328487e-01,   3.86575874e-01,   9.33776992e-01,\n",
       "         9.31965609e-01,   8.63274981e-01,   4.64769327e-01,\n",
       "         9.02723902e-01,   4.95649296e-01,   6.80149081e-02,\n",
       "         1.79112631e-01,   6.62169302e-01,   4.41105307e-01,\n",
       "         1.88636325e-01,   5.87093941e-01,   4.13274674e-01,\n",
       "         5.29084599e-01,   4.24065967e-01,   3.87632084e-01,\n",
       "         2.39734216e-01,   8.59418052e-01,   3.41044877e-01,\n",
       "         8.51447169e-02,   4.43287892e-01,   9.23355825e-01,\n",
       "         5.91214987e-02,   5.71525180e-01,   8.54633247e-03,\n",
       "         1.29977202e-01,   5.86984086e-01,   9.72421517e-01,\n",
       "         1.38056413e-01,   3.16040088e-01,   6.81338475e-02,\n",
       "         8.23354449e-01,   5.15499633e-01,   2.72792197e-01,\n",
       "         8.07214183e-01,   3.05657236e-01,   7.02039923e-01,\n",
       "         5.95775919e-01,   5.42173317e-02,   5.64752733e-01,\n",
       "         3.21432036e-03,   5.34463157e-01,   7.20216690e-01,\n",
       "         1.37334599e-01,   5.78405468e-01,   6.73803020e-01,\n",
       "         1.33136298e-01,   3.55519160e-01,   1.66210474e-01,\n",
       "         3.24634969e-01,   7.22866448e-01,   8.51041414e-01,\n",
       "         6.94025739e-01,   1.21038449e-01,   7.20287418e-01,\n",
       "         8.79186624e-01,   1.12501382e-01,   5.71502920e-01,\n",
       "         7.28926251e-01,   7.71760673e-01,   1.25090160e-01,\n",
       "         5.48234691e-01,   3.46789914e-01,   2.01500193e-02,\n",
       "         6.89557090e-01,   1.95188062e-01,   4.93906080e-01,\n",
       "         9.17109301e-01,   8.14325424e-01,   9.38276249e-01,\n",
       "         8.85423350e-01,   2.56018595e-01,   2.45709038e-01,\n",
       "         2.81388014e-01,   2.75999982e-01,   9.21175823e-01,\n",
       "         2.99122394e-01,   9.31138948e-01,   2.55989492e-01,\n",
       "         4.17181902e-01,   4.10095226e-01,   6.34050097e-01,\n",
       "         8.63287601e-01,   2.14836918e-01,   1.86230247e-01,\n",
       "         5.99542393e-03,   1.88724146e-02,   6.13736116e-01,\n",
       "         4.46996470e-01,   2.44596192e-01,   6.10475493e-01,\n",
       "         1.04143181e-01,   3.09922570e-01,   7.18414523e-01,\n",
       "         1.06936393e-02,   5.17303268e-01,   2.33007719e-01,\n",
       "         6.88650392e-01,   1.84848632e-01,   5.86311271e-01,\n",
       "         3.05551481e-02,   1.69176028e-01,   6.16919203e-01,\n",
       "         5.78292356e-01,   4.89875588e-01,   2.93748867e-01,\n",
       "         1.67800359e-01,   2.95412916e-01,   7.44385090e-02,\n",
       "         5.63593865e-01,   2.29173921e-01,   9.23730425e-01,\n",
       "         4.64796988e-01,   7.99544607e-01,   3.05887349e-01,\n",
       "         1.96344880e-01,   5.70680459e-01,   4.05850729e-01,\n",
       "         5.66699153e-01,   1.48576745e-01,   1.10732634e-01,\n",
       "         9.85134758e-01,   4.17868506e-01,   1.66956851e-01,\n",
       "         9.74936979e-01,   5.96729104e-01,   6.87714587e-01,\n",
       "         1.27946647e-01,   1.61167108e-01,   8.31287881e-01,\n",
       "         2.35367279e-01,   8.75224641e-01,   7.74138574e-01,\n",
       "         4.18390452e-01,   1.92698851e-01,   5.50739614e-01,\n",
       "         2.67578893e-02,   6.51161293e-01,   6.98001923e-01,\n",
       "         1.45782593e-01,   9.06114162e-01,   7.12520606e-01,\n",
       "         3.75042818e-01,   9.10560680e-01,   4.09660352e-01,\n",
       "         9.17407544e-01,   9.70986815e-01,   9.59482843e-01,\n",
       "         4.25382571e-01,   1.29778059e-01,   6.48820125e-01,\n",
       "         4.56269834e-01,   2.62735398e-01,   1.71625606e-01,\n",
       "         2.89345662e-01,   6.90905052e-01,   9.72472215e-01,\n",
       "         7.33995081e-01,   3.63867500e-02,   8.80758073e-01,\n",
       "         5.53638087e-01,   3.87337329e-02,   5.23888711e-01,\n",
       "         5.50610328e-01,   9.39204413e-01,   9.98361705e-01,\n",
       "         8.35961306e-01,   2.59748025e-02,   4.95819657e-01,\n",
       "         6.19595449e-01,   2.85666131e-01,   4.97387755e-01,\n",
       "         3.44526428e-02,   1.36758359e-01,   4.65523510e-01,\n",
       "         8.16137387e-01,   6.63054202e-01,   6.61706654e-01,\n",
       "         6.79609724e-01,   1.90822426e-01,   6.63647518e-01,\n",
       "         9.20258027e-02,   6.20951204e-01,   3.15487780e-01,\n",
       "         3.18421823e-01,   6.07292136e-01,   5.79928788e-01,\n",
       "         5.10048189e-01,   4.89039367e-02,   6.63991760e-01,\n",
       "         3.45517193e-01,   4.95574070e-01,   3.67822444e-01,\n",
       "         3.03702498e-01,   6.83383361e-01,   1.57018820e-01,\n",
       "         8.81772999e-01,   5.82822281e-01,   7.47759714e-01,\n",
       "         2.72798693e-01,   2.22428198e-01,   6.65992147e-01,\n",
       "         3.20361379e-01,   6.93192143e-01,   8.14961930e-01,\n",
       "         4.93588626e-01,   6.46904652e-01,   3.84622692e-01,\n",
       "         8.46856062e-01,   5.36857878e-01,   3.47930188e-01,\n",
       "         9.23240287e-01,   4.01614902e-02,   4.68988531e-01,\n",
       "         3.02708230e-01,   9.97605343e-01,   8.77805587e-01,\n",
       "         3.58725672e-01,   1.17454245e-01,   6.23595064e-01,\n",
       "         5.24748389e-01,   3.82199601e-01,   8.29452776e-01,\n",
       "         9.08734013e-01,   3.67198690e-01,   9.66094723e-01,\n",
       "         4.55191571e-01,   9.78912113e-01,   2.03701514e-01,\n",
       "         5.41015442e-01,   8.91736564e-01,   7.07750268e-01,\n",
       "         9.93258393e-01,   3.08694320e-01,   3.22701603e-01,\n",
       "         3.73441410e-01,   5.78222554e-01,   7.34096435e-01,\n",
       "         1.07339962e-04,   1.96491781e-01,   8.68635314e-01,\n",
       "         9.09313393e-01,   8.42065036e-01,   9.72498574e-01,\n",
       "         9.61972614e-01,   2.08723655e-02,   7.91106570e-01,\n",
       "         1.44660120e-01,   6.30257854e-01,   7.03145236e-01,\n",
       "         1.77170803e-01,   6.85122909e-01,   2.46445569e-01,\n",
       "         1.00696477e-01,   5.44285662e-01,   4.94484525e-01,\n",
       "         4.23108689e-01,   3.31738052e-01,   4.35468408e-01,\n",
       "         2.26808742e-01,   1.41758349e-02,   9.69067815e-01,\n",
       "         4.85305382e-01,   7.52047507e-01,   3.34323076e-01,\n",
       "         3.97101241e-01,   1.13091534e-01,   1.15887088e-01,\n",
       "         6.23755880e-01,   2.52260879e-01,   8.00474250e-02,\n",
       "         8.36020032e-01,   2.39435881e-01,   8.19068697e-01,\n",
       "         5.93074642e-01,   3.35385228e-01,   1.29212392e-01,\n",
       "         7.21675508e-01,   9.63392447e-01,   1.87654041e-01,\n",
       "         8.79506653e-01,   6.92840789e-01,   4.72378169e-01,\n",
       "         3.57075717e-01,   5.47898757e-01,   6.02857202e-01,\n",
       "         7.58861073e-01,   8.29812452e-01,   8.97428069e-01,\n",
       "         9.26872668e-01,   7.59950364e-01,   7.19089588e-01,\n",
       "         9.84691876e-01,   1.14914952e-01,   1.80951993e-01,\n",
       "         1.73123686e-01,   8.08103106e-01,   2.17358532e-01,\n",
       "         8.86195303e-01,   7.84730092e-01,   4.14063399e-01,\n",
       "         1.78666582e-01,   5.41308655e-01,   5.71547355e-01,\n",
       "         9.82466156e-01,   6.50156094e-01,   1.83479215e-02,\n",
       "         8.73744699e-01,   5.22379366e-01,   3.92450352e-01,\n",
       "         8.59406426e-01,   8.06782060e-01,   4.37001921e-01,\n",
       "         9.06796658e-01,   2.81741630e-01,   3.90809598e-01,\n",
       "         2.98879665e-01,   9.86016812e-01,   8.23050708e-01,\n",
       "         5.78444954e-01,   5.32962464e-01,   9.77702141e-01,\n",
       "         4.47361490e-01,   8.57415036e-01,   3.48122167e-01,\n",
       "         7.84603947e-01,   2.41237276e-01,   5.43651887e-01,\n",
       "         3.86372470e-01,   3.08556334e-01,   1.67630972e-01,\n",
       "         1.72835831e-01,   8.92861857e-01,   9.59700737e-01,\n",
       "         4.70800709e-01,   1.46508652e-01,   9.02854781e-01,\n",
       "         9.54028003e-02,   4.51047809e-01,   9.97532881e-01,\n",
       "         7.16089274e-01,   5.82621577e-01,   3.77848417e-01,\n",
       "         7.11371704e-01,   7.93221136e-01,   9.61124720e-01,\n",
       "         8.92798273e-01,   5.16790730e-01,   4.07222807e-01,\n",
       "         8.65696684e-01,   6.85374747e-01,   7.46353917e-01,\n",
       "         1.07996882e-01,   3.69804125e-01,   4.48702123e-01,\n",
       "         8.45617024e-01,   6.50491471e-01,   1.29002877e-01,\n",
       "         4.28998714e-01,   3.75348702e-02,   9.03204163e-01,\n",
       "         5.77540220e-01,   7.98069938e-01,   1.88491727e-01,\n",
       "         4.75524594e-01,   7.39273179e-02,   4.06973023e-01,\n",
       "         9.51602916e-01,   4.30914093e-01,   7.23990011e-01,\n",
       "         6.01793281e-01,   2.90551995e-01,   7.23513359e-01,\n",
       "         8.84923029e-01,   1.36976786e-01,   7.49656666e-01,\n",
       "         9.27569875e-01,   2.16063215e-01,   4.95630380e-01,\n",
       "         4.54743446e-01,   4.31292125e-02,   2.37526091e-01,\n",
       "         7.94536098e-01,   1.21045598e-01,   8.51922297e-01,\n",
       "         9.64065394e-01,   6.45861189e-01,   4.56577475e-01,\n",
       "         6.24863128e-01,   1.80148628e-01,   7.91858101e-01,\n",
       "         2.37087599e-01,   6.77069237e-01,   3.05981786e-01,\n",
       "         8.74836204e-01,   1.33211153e-01,   2.90421690e-01,\n",
       "         7.40580699e-01,   3.74065638e-01,   3.07432360e-01,\n",
       "         8.89504165e-01,   8.06624301e-01,   5.24746080e-01,\n",
       "         5.02956725e-01,   1.05365637e-01,   9.88646484e-01,\n",
       "         6.31608173e-01,   5.53202075e-01,   3.60241559e-01,\n",
       "         1.01005581e-01,   8.23447490e-01,   7.38045511e-01,\n",
       "         4.14337977e-01,   2.13799973e-01,   5.81326217e-01,\n",
       "         9.56085376e-01,   3.30964887e-01,   3.94945261e-01,\n",
       "         4.23501565e-01,   7.43497250e-01,   3.75283546e-02,\n",
       "         9.66916621e-01,   5.02094476e-01,   2.89976762e-01,\n",
       "         4.20549868e-01,   2.35364763e-02,   4.32789119e-01,\n",
       "         8.94489140e-01,   2.50022903e-01,   9.07420404e-01,\n",
       "         5.07339332e-01,   8.05525306e-01,   2.65212081e-01,\n",
       "         7.39870262e-01,   5.02164104e-01,   7.12211900e-01,\n",
       "         5.34697116e-01,   3.32322408e-01,   2.27782507e-01,\n",
       "         2.26349636e-01,   8.11774319e-02,   8.10472678e-01,\n",
       "         7.02639983e-01,   3.49851285e-01,   6.72251188e-01,\n",
       "         1.15181899e-01,   7.12022588e-01,   4.01210362e-01,\n",
       "         2.43436269e-01,   4.08045844e-01,   2.99639432e-01,\n",
       "         6.30839066e-01,   5.52155606e-01,   4.70862213e-01,\n",
       "         4.14475266e-01,   2.15509765e-01,   8.28321865e-01,\n",
       "         1.46837106e-01,   9.36319098e-01,   9.26761185e-01,\n",
       "         9.37108308e-01,   6.58114580e-01,   9.20385699e-01,\n",
       "         3.86672354e-01,   8.85670259e-01,   4.16454541e-01,\n",
       "         6.87832954e-01,   9.55921199e-01,   4.48173435e-01,\n",
       "         6.53047098e-02,   2.76322835e-01,   8.12330650e-01,\n",
       "         9.53238971e-01,   6.12207181e-01,   1.95242629e-01,\n",
       "         1.67963899e-01,   3.42559405e-01,   7.49663627e-01,\n",
       "         7.57106112e-01,   2.80485380e-01,   1.27229678e-01,\n",
       "         6.45201823e-01,   5.18088462e-01,   2.95642050e-01,\n",
       "         3.01269508e-01,   9.18068616e-01,   5.33831161e-01,\n",
       "         1.69689189e-01,   8.03610262e-01,   6.99188074e-01,\n",
       "         5.74624355e-01,   5.69826602e-01,   9.52441235e-01,\n",
       "         5.01500723e-01,   4.55639914e-01,   7.14355077e-01,\n",
       "         6.98050496e-01,   8.32736771e-01,   6.02124136e-01,\n",
       "         8.17987784e-01,   5.35706876e-01,   2.34516073e-03,\n",
       "         4.02051503e-01,   2.28350170e-01,   8.68146018e-01,\n",
       "         5.01191235e-01,   1.43207489e-01,   7.72645382e-01,\n",
       "         6.14010161e-01,   7.24456768e-01,   2.84211591e-01,\n",
       "         3.15501328e-01,   8.02534677e-01,   5.72981847e-01,\n",
       "         4.28302977e-01,   8.03106831e-01,   7.90273854e-01,\n",
       "         3.96323481e-01,   2.15346143e-02,   4.36096371e-01,\n",
       "         8.51070053e-01,   3.81947242e-01,   9.91279805e-01,\n",
       "         7.05219447e-01,   8.19644718e-01,   7.31123661e-01,\n",
       "         1.03721642e-01,   6.42206777e-01,   9.89545375e-01,\n",
       "         5.30924061e-01,   2.70512432e-02,   5.28105566e-01,\n",
       "         2.07790299e-02,   9.97622840e-01,   1.34069718e-01,\n",
       "         5.66152277e-01,   7.72145067e-01,   4.20043281e-01,\n",
       "         5.60431357e-01,   1.69691924e-01,   2.82688399e-01,\n",
       "         1.26478188e-01,   5.27527980e-01,   8.47171106e-01,\n",
       "         2.56521741e-01,   9.52819457e-01,   4.79229535e-01,\n",
       "         9.10463485e-01,   1.48260659e-01,   6.61646293e-01,\n",
       "         8.03201640e-01,   4.89911819e-01,   8.10300694e-01,\n",
       "         9.92193046e-01,   2.97125805e-01,   1.34735631e-01,\n",
       "         1.18998380e-01,   2.16571174e-01,   1.05342557e-01,\n",
       "         4.93690244e-02,   5.42851773e-01,   6.89533779e-01,\n",
       "         9.38804897e-01,   2.25779485e-01,   3.88201951e-01,\n",
       "         6.83108944e-01,   7.77039917e-01,   7.63131567e-01,\n",
       "         2.31478327e-01,   4.50851101e-01,   7.15678764e-01,\n",
       "         9.50632189e-01,   7.45457249e-01,   5.43315096e-01,\n",
       "         2.72425235e-01,   6.49998548e-01,   9.26491296e-01,\n",
       "         2.98928428e-01,   8.80849035e-01,   5.55713731e-02,\n",
       "         5.46338154e-01,   4.52318312e-01,   7.30805718e-02,\n",
       "         3.23644172e-01,   1.15791030e-01,   2.15549532e-01,\n",
       "         4.61485298e-01,   1.81347478e-01,   5.18440215e-02,\n",
       "         9.09666074e-01,   4.82785625e-01,   5.12899028e-01,\n",
       "         1.96796639e-02,   3.52777307e-01,   8.84506526e-01,\n",
       "         2.66916879e-01,   9.82382572e-01,   5.15987805e-01,\n",
       "         4.66674301e-01,   9.14202780e-01,   2.22832535e-01,\n",
       "         6.94315255e-01,   8.66014068e-01,   1.04311055e-01,\n",
       "         2.75264224e-01,   4.76143110e-01,   1.62110916e-01,\n",
       "         5.90212707e-01,   5.54766328e-01,   8.79016691e-03,\n",
       "         3.83864372e-01,   4.92519952e-01,   6.09631497e-01,\n",
       "         6.47795482e-01,   1.99965317e-01,   3.05961210e-01,\n",
       "         3.93888996e-01,   3.43771268e-01,   9.88600339e-01,\n",
       "         9.34868964e-01,   3.06196144e-01,   5.46303012e-01,\n",
       "         9.58617688e-01,   7.97094721e-01,   5.91124216e-01,\n",
       "         5.05829603e-01,   8.77423462e-01,   6.95539861e-01,\n",
       "         5.68668957e-01,   4.00304814e-01,   6.70106224e-01,\n",
       "         3.97263274e-01,   4.28716450e-01,   6.27491817e-01,\n",
       "         1.86346201e-01,   6.23725025e-01,   1.33927979e-01,\n",
       "         4.02743753e-01,   6.69467677e-01,   3.77514452e-02,\n",
       "         6.19678772e-01,   2.62517647e-01,   3.02245612e-01,\n",
       "         5.83537133e-01,   2.78562938e-01,   7.41407175e-01,\n",
       "         1.89093455e-01,   3.76697345e-01,   8.17830436e-01,\n",
       "         8.27170835e-01,   1.36540950e-01,   6.92390078e-01,\n",
       "         2.24944640e-01,   8.58404718e-01,   8.18705085e-01,\n",
       "         9.40122338e-01,   8.54984960e-01,   4.86675193e-01,\n",
       "         6.50132143e-01,   2.92157134e-01,   3.34723744e-01,\n",
       "         8.22019030e-01,   3.61046204e-01,   9.47248414e-01,\n",
       "         6.42948619e-01,   1.80445729e-01,   8.84524882e-01,\n",
       "         8.78997341e-02,   3.42678291e-01,   6.87239725e-01,\n",
       "         6.28894609e-01,   1.19277488e-01,   9.55725603e-01,\n",
       "         7.79009579e-03,   2.60667083e-01,   5.79979528e-01,\n",
       "         7.14085614e-01,   3.59967712e-01,   8.63065923e-01,\n",
       "         8.16145589e-01,   1.19338151e-01,   9.98767997e-01,\n",
       "         8.50571527e-01,   7.71321808e-01,   3.95404873e-01,\n",
       "         5.61933300e-01,   8.90015560e-01,   4.03828718e-01,\n",
       "         1.79740852e-01,   9.95278832e-01,   6.88131605e-01,\n",
       "         5.63241354e-02,   4.21551804e-02,   6.16146697e-01,\n",
       "         8.52719825e-01,   1.93985413e-01,   4.11344154e-01,\n",
       "         8.93860719e-01,   9.83573370e-01,   7.06085057e-01,\n",
       "         1.05960447e-01,   9.61409149e-01,   3.76759562e-02,\n",
       "         9.67434787e-01,   3.74970747e-01,   3.32936394e-01,\n",
       "         3.76783989e-02,   1.52404272e-01,   7.00261667e-01,\n",
       "         8.26298414e-01,   2.21718792e-03,   5.63771960e-01,\n",
       "         4.15437652e-01,   5.26683747e-01,   2.24114775e-01,\n",
       "         4.30982348e-01,   3.50980359e-01,   5.91136273e-01,\n",
       "         3.12419020e-01,   4.09089038e-01,   2.27160031e-01,\n",
       "         3.47287472e-01,   1.40931187e-01,   3.14350646e-01,\n",
       "         3.87804035e-02,   3.44741265e-01,   9.67927342e-01,\n",
       "         7.24408067e-01,   1.49833321e-01,   7.37874858e-01,\n",
       "         6.84349833e-01,   8.95542715e-01,   2.60963948e-01,\n",
       "         7.13704215e-01,   6.35687521e-01,   2.38697469e-01,\n",
       "         1.78619149e-01,   1.46883784e-01,   5.71178207e-01,\n",
       "         8.22959654e-01,   7.84443044e-02,   9.21501060e-01,\n",
       "         8.89475326e-01,   7.84783519e-01,   8.08425323e-01,\n",
       "         8.02767092e-01,   4.93494759e-01,   7.06942264e-01,\n",
       "         1.85829639e-01,   8.11890877e-01,   5.73655729e-01,\n",
       "         7.75484986e-01,   1.33675299e-01,   5.78764126e-01,\n",
       "         8.52575054e-01,   2.30458549e-01,   9.40681877e-01,\n",
       "         5.60609330e-01,   1.01784349e-01,   1.25793250e-01,\n",
       "         7.94197419e-01,   6.23493598e-01,   8.48653730e-01,\n",
       "         1.64137280e-01,   5.29856582e-01,   3.89972420e-01,\n",
       "         5.36707276e-01,   7.59106879e-01,   6.45438980e-01,\n",
       "         5.26247145e-01,   5.99885517e-01,   1.61274740e-01,\n",
       "         1.94284091e-01,   2.77391254e-01,   2.68314945e-01,\n",
       "         7.12195294e-01,   4.79307335e-01,   3.39443581e-02,\n",
       "         9.82344086e-01,   9.92618194e-01,   2.52470394e-01,\n",
       "         8.07486195e-01,   4.35456105e-01,   1.49168444e-01,\n",
       "         4.61879203e-01,   4.34518765e-01,   8.04912040e-01,\n",
       "         4.92303095e-01,   5.23530215e-02,   8.49207013e-01,\n",
       "         7.62128213e-01,   5.72197353e-01,   2.47167842e-01,\n",
       "         5.46284535e-01,   7.23055502e-01,   5.99688871e-01,\n",
       "         2.89303472e-01,   8.44524987e-01,   4.42254662e-01,\n",
       "         7.89583518e-01])"
      ]
     },
     "execution_count": 25,
     "metadata": {},
     "output_type": "execute_result"
    }
   ],
   "source": [
    "a = np.random.rand(1000)\n",
    "a"
   ]
  },
  {
   "cell_type": "code",
   "execution_count": 26,
   "metadata": {
    "collapsed": false
   },
   "outputs": [
    {
     "data": {
      "text/plain": [
       "(array([  82.,  117.,   99.,   95.,  105.,  112.,   88.,   85.,  112.,  105.]),\n",
       " array([  1.07339962e-04,   9.99734056e-02,   1.99839471e-01,\n",
       "          2.99705537e-01,   3.99571603e-01,   4.99437668e-01,\n",
       "          5.99303734e-01,   6.99169800e-01,   7.99035865e-01,\n",
       "          8.98901931e-01,   9.98767997e-01]),\n",
       " <a list of 10 Patch objects>)"
      ]
     },
     "execution_count": 26,
     "metadata": {},
     "output_type": "execute_result"
    },
    {
     "data": {
      "image/png": "[encoded data removed]",
      "text/plain": [
       "<matplotlib.figure.Figure at 0x13ba63ea320>"
      ]
     },
     "metadata": {},
     "output_type": "display_data"
    }
   ],
   "source": [
    "plt.hist(a)"
   ]
  },
  {
   "cell_type": "code",
   "execution_count": 28,
   "metadata": {
    "collapsed": false
   },
   "outputs": [
    {
     "data": {
      "text/plain": [
       "range(0, 2)"
      ]
     },
     "execution_count": 28,
     "metadata": {},
     "output_type": "execute_result"
    }
   ],
   "source": [
    "range(2)"
   ]
  },
  {
   "cell_type": "code",
   "execution_count": 29,
   "metadata": {
    "collapsed": false
   },
   "outputs": [
    {
     "data": {
      "text/plain": [
       "range(0, 0)"
      ]
     },
     "execution_count": 29,
     "metadata": {},
     "output_type": "execute_result"
    }
   ],
   "source": [
    "range(0)"
   ]
  },
  {
   "cell_type": "code",
   "execution_count": null,
   "metadata": {
    "collapsed": true
   },
   "outputs": [],
   "source": []
  }
 ],
 "metadata": {
  "kernelspec": {
   "display_name": "Python [Root]",
   "language": "python",
   "name": "Python [Root]"
  },
  "language_info": {
   "codemirror_mode": {
    "name": "ipython",
    "version": 3
   },
   "file_extension": ".py",
   "mimetype": "text/x-python",
   "name": "python",
   "nbconvert_exporter": "python",
   "pygments_lexer": "ipython3",
   "version": "3.5.2"
  }
 },
 "nbformat": 4,
 "nbformat_minor": 0
}

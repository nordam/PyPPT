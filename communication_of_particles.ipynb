{
 "cells": [
  {
   "cell_type": "code",
   "execution_count": 102,
   "metadata": {
    "collapsed": true
   },
   "outputs": [],
   "source": [
    "# starts with ONE dimension\n",
    "### sets all y-values to 0\n",
    "# neglects the problem of how to divide a 2D/3D-area-cells in each rank\n",
    "\n",
    "### initial example\n",
    "# 2 ranks\n",
    "# 4 cells"
   ]
  },
  {
   "cell_type": "markdown",
   "metadata": {},
   "source": [
    "#pseudo code:\n",
    "* For hver partikkel, sjekk hvilken rank som eier den cellen den er i.\n",
    "  * De som fortsatt er i en celle som er eid av ranken som har partikkelen trenger ikke sendes.\n",
    "  * De som er i en celle eid av en annen rank må sendes.\n",
    "\n",
    "* Hver rank kan nå regne ut hvor mange partikler den skal sende til alle andre ranks, men den kan ikke selv regne ut hvor mange den skal motta. Denne informasjonen er nødvendig for å kunne allokere plass til å ta imot.\n",
    "\n",
    "* For å utveksle denne informasjonen har jeg følgt følgende strategi (forsøkt illustrert i det andre vedlagte bildet)\n",
    "  * På hver rank, sett opp et kvadratisk array (datatype integer), med størrelse antall ranks x antall ranks.\n",
    "  * Sett alle elementer til 0\n",
    "  * La rader representere antall partikler som skal sendes, og kolonner partikler som skal mottas\n",
    "  * (Merk at denne arrayen som regel ikke vil være symmetrisk om diagonalen)\n",
    "  * Så for eksempel rad 2 forteller hvor mange partikler som skal sendes fra rank 2, til hver av de andre\n",
    "  * På dette tidspunktet har hver rank nok informasjon til å fylle ut sin egen rad.\n",
    "  * Kall deretter allreduce med sum-operatoren.\n",
    "  * Alle ranks har nå en komplett kopi av hele arrayet, og vet dermed hvor mange partikler de skal ta imot.\n",
    "\n",
    "* Nå er man klar for å begynne selve utvekslingen av partikler.\n",
    "  * For hver rank, sett opp et array for å holde partikler som skal sendes\n",
    "    * Det finnes minst to måter å gjøre dette:\n",
    "      * Den ene er å sette opp et array av størrelse antall ranks x max antall partikler som skal sendes\n",
    "      * Den andre er å lage en liste av arrays, der hver array holder partikler som skal sendes til en gitt rank, og har så mange elementer som skal sendes dit.\n",
    "      * Fordelen med den første metoden er at den er enkel\n",
    "      * Ulempen med den første metoden er at den potensielt kan gi veldig stor minne-overhead\n",
    "  * Gjør tilsvarende for partikler som skal mottas\n",
    "  * På hver rank, sett opp en non-blocking receive (MPI_irecv i fortran/c) for å ta imot fra alle andre ranks\n",
    "  * På hver rank, sett opp en non-blocking send (MPI_isend) for å sende til alle andre ranks\n",
    "  * På hver rank, kall mpi_waitall med referanse til alle send og receive kall. Denne gjør at man ikke går videre før all kommunikasjon er avsluttet.\n"
   ]
  },
  {
   "cell_type": "code",
   "execution_count": null,
   "metadata": {
    "collapsed": true
   },
   "outputs": [],
   "source": [
    "### TODO:implement  exception handling? primary \"out of bounds\" and wrong data type"
   ]
  },
  {
   "cell_type": "code",
   "execution_count": 112,
   "metadata": {
    "collapsed": true
   },
   "outputs": [],
   "source": [
    "### MPI in script\n",
    "\n",
    "# example to run:\n",
    "#mpiexec -n 2 python NAME.py\n",
    "# where 2 is the number of processes\n",
    "\n",
    "import numpy as np\n",
    "from mpi4py import MPI\n",
    "#from matplotlib import pyplot as plt\n",
    "#plt.style.use('bmh')\n",
    "\n",
    "#comm = MPI.COMM_WORLD\n",
    "#rank = comm.Get_rank()\n",
    "#my_mpi_size = comm.Get_size()"
   ]
  },
  {
   "cell_type": "code",
   "execution_count": 94,
   "metadata": {
    "collapsed": true
   },
   "outputs": [],
   "source": [
    "#######\n",
    "# for testing in jupyter notebook:\n",
    "rank = 2"
   ]
  },
  {
   "cell_type": "code",
   "execution_count": 123,
   "metadata": {
    "collapsed": true
   },
   "outputs": [],
   "source": [
    "# initializing spatial properties\n",
    "x_start = 0\n",
    "x_end = 1\n",
    "y_start = 0\n",
    "y_end = 0 # 1D example\n",
    "\n",
    "x_len = x_end - x_start\n",
    "y_len = y_end - y_start"
   ]
  },
  {
   "cell_type": "code",
   "execution_count": 96,
   "metadata": {
    "collapsed": false
   },
   "outputs": [],
   "source": [
    "# initializing \"processes/rank\" properties\n",
    "# TODO: implement \"find biggest factor\"-function or another dynamical function to determine numer of cells in each direction\n",
    "\n",
    "# number of cells in each direction (0 in z direction at first draft/prototype)\n",
    "cells_dir_n = 4\n",
    "\n",
    "cell_x_n = cells_dir_n\n",
    "\n",
    "#cell_y_n = cells_dir_n\n",
    "#cell_n = cell_x_n*cell_y_n\n",
    "# for 1D example/prototype:\n",
    "cell_y_n = 0\n",
    "cell_n = cell_x_n"
   ]
  },
  {
   "cell_type": "code",
   "execution_count": 97,
   "metadata": {
    "collapsed": false
   },
   "outputs": [],
   "source": [
    "# Particle \"object\" is defined in several arrays\n",
    "# TODO: define a \"particle-class/tuple\"?\n",
    "# particle_id is bound to the index in the x/y-arrays\n",
    "\n",
    "# total number of particles\n",
    "particle_n = 10\n",
    "particle_x = np.linspace(x_start, x_end, particle_n, endpoint=False)\n",
    "particle_y = np.linspace(y_start, y_end, particle_n, endpoint=False)"
   ]
  },
  {
   "cell_type": "code",
   "execution_count": 160,
   "metadata": {
    "collapsed": false
   },
   "outputs": [],
   "source": [
    "# function to find which process/rank of cell\n",
    "### this function determines how the cells are distributed to ranks\n",
    "### discussion: how to do this distribution\n",
    "def find_rank_from_cell(cell_id):\n",
    "    return cell_id % rank\n",
    "\n",
    "# function to find which cell of position\n",
    "### this function determines how the cells are distributed geometric\n",
    "### discussion: how to do this distribution\n",
    "def find_cell_from_position(x):\n",
    "    return np.floor(((x - x_start)/(x_len))*cell_x_n) # for 1D\n",
    "\n",
    "# function to find which position of particle\n",
    "# in 2D, return a rank 2 array?\n",
    "def find_pos_from_particle(particle_id):\n",
    "    return particle_x[particle_id] # for 1D\n",
    "    #return (particle_x[particle_id], particle_y[particle_id])"
   ]
  },
  {
   "cell_type": "code",
   "execution_count": 159,
   "metadata": {
    "collapsed": false
   },
   "outputs": [
    {
     "data": {
      "text/plain": [
       "1.0"
      ]
     },
     "execution_count": 159,
     "metadata": {},
     "output_type": "execute_result"
    }
   ],
   "source": [
    "# for debugging:\n",
    "#find_cell_rank(find_pos_cell(find_particle_pos(8)))\n"
   ]
  },
  {
   "cell_type": "code",
   "execution_count": 158,
   "metadata": {
    "collapsed": false
   },
   "outputs": [
    {
     "data": {
      "text/plain": [
       "0.80000000000000004"
      ]
     },
     "execution_count": 158,
     "metadata": {},
     "output_type": "execute_result"
    }
   ],
   "source": []
  },
  {
   "cell_type": "code",
   "execution_count": 154,
   "metadata": {
    "collapsed": false
   },
   "outputs": [
    {
     "ename": "TypeError",
     "evalue": "find_pos_cell() missing 1 required positional argument: 'y'",
     "output_type": "error",
     "traceback": [
      "\u001b[1;31m---------------------------------------------------------------------------\u001b[0m",
      "\u001b[1;31mTypeError\u001b[0m                                 Traceback (most recent call last)",
      "\u001b[1;32m<ipython-input-154-1cff9b18be94>\u001b[0m in \u001b[0;36m<module>\u001b[1;34m()\u001b[0m\n\u001b[1;32m----> 1\u001b[1;33m \u001b[0mfind_pos_cell\u001b[0m\u001b[1;33m(\u001b[0m\u001b[1;33m[\u001b[0m\u001b[1;36m.8\u001b[0m\u001b[1;33m,\u001b[0m \u001b[1;36m0\u001b[0m\u001b[1;33m]\u001b[0m\u001b[1;33m)\u001b[0m\u001b[1;33m\u001b[0m\u001b[0m\n\u001b[0m",
      "\u001b[1;31mTypeError\u001b[0m: find_pos_cell() missing 1 required positional argument: 'y'"
     ]
    }
   ],
   "source": []
  },
  {
   "cell_type": "code",
   "execution_count": 4,
   "metadata": {
    "collapsed": true
   },
   "outputs": [],
   "source": [
    "\n",
    "# Figure out which particles need to be moved\n",
    "# Each proc. fills the rows of communicationarray with what needs to be sent\n",
    "communicationarray = 0\n",
    "# Reset arrays telling which particles are to be sent\n",
    "particles % send    = .false.\n",
    "particles % send_to = -1"
   ]
  },
  {
   "cell_type": "code",
   "execution_count": null,
   "metadata": {
    "collapsed": true
   },
   "outputs": [],
   "source": [
    "# Only set up communicationarray if my_mpi_size > 1\n",
    "print('my_mpi_size = ', my_mpi_size)\n",
    "if (my_mpi_size > 1):\n",
    "    # Only do work if this rank has particles\n",
    "    print()'Preparing communcationarray)\n",
    "    if (particles % nparticles > 0)"
   ]
  }
 ],
 "metadata": {
  "anaconda-cloud": {},
  "kernelspec": {
   "display_name": "Python [Root]",
   "language": "python",
   "name": "Python [Root]"
  },
  "language_info": {
   "codemirror_mode": {
    "name": "ipython",
    "version": 3
   },
   "file_extension": ".py",
   "mimetype": "text/x-python",
   "name": "python",
   "nbconvert_exporter": "python",
   "pygments_lexer": "ipython3",
   "version": "3.5.2"
  }
 },
 "nbformat": 4,
 "nbformat_minor": 0
}
